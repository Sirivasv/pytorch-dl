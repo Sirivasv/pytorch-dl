{
 "cells": [
  {
   "cell_type": "code",
   "execution_count": 1,
   "metadata": {},
   "outputs": [],
   "source": [
    "import torch\n",
    "from torch import nn\n",
    "import torch.nn.functional as F\n",
    "\n",
    "import numpy as np\n",
    "import matplotlib.pyplot as plt\n",
    "%matplotlib inline"
   ]
  },
  {
   "cell_type": "code",
   "execution_count": 2,
   "metadata": {},
   "outputs": [],
   "source": [
    "with open('../Data/shakespeare.txt', 'r', encoding='utf8') as f:\n",
    "    text = f.read()"
   ]
  },
  {
   "cell_type": "code",
   "execution_count": 3,
   "metadata": {},
   "outputs": [
    {
     "data": {
      "text/plain": [
       "str"
      ]
     },
     "execution_count": 3,
     "metadata": {},
     "output_type": "execute_result"
    }
   ],
   "source": [
    "type(text)"
   ]
  },
  {
   "cell_type": "code",
   "execution_count": 4,
   "metadata": {},
   "outputs": [
    {
     "name": "stdout",
     "output_type": "stream",
     "text": [
      "\n",
      "                     1\n",
      "  From fairest creatures we desire increase,\n",
      "  That thereby beauty's rose mi\n"
     ]
    }
   ],
   "source": [
    "print(text[:100])"
   ]
  },
  {
   "cell_type": "code",
   "execution_count": 5,
   "metadata": {},
   "outputs": [
    {
     "data": {
      "text/plain": [
       "5445609"
      ]
     },
     "execution_count": 5,
     "metadata": {},
     "output_type": "execute_result"
    }
   ],
   "source": [
    "len(text)"
   ]
  },
  {
   "cell_type": "code",
   "execution_count": 6,
   "metadata": {},
   "outputs": [],
   "source": [
    "all_characters = set(text)"
   ]
  },
  {
   "cell_type": "code",
   "execution_count": 7,
   "metadata": {},
   "outputs": [
    {
     "data": {
      "text/plain": [
       "{'\\n',\n",
       " ' ',\n",
       " '!',\n",
       " '\"',\n",
       " '&',\n",
       " \"'\",\n",
       " '(',\n",
       " ')',\n",
       " ',',\n",
       " '-',\n",
       " '.',\n",
       " '0',\n",
       " '1',\n",
       " '2',\n",
       " '3',\n",
       " '4',\n",
       " '5',\n",
       " '6',\n",
       " '7',\n",
       " '8',\n",
       " '9',\n",
       " ':',\n",
       " ';',\n",
       " '<',\n",
       " '>',\n",
       " '?',\n",
       " 'A',\n",
       " 'B',\n",
       " 'C',\n",
       " 'D',\n",
       " 'E',\n",
       " 'F',\n",
       " 'G',\n",
       " 'H',\n",
       " 'I',\n",
       " 'J',\n",
       " 'K',\n",
       " 'L',\n",
       " 'M',\n",
       " 'N',\n",
       " 'O',\n",
       " 'P',\n",
       " 'Q',\n",
       " 'R',\n",
       " 'S',\n",
       " 'T',\n",
       " 'U',\n",
       " 'V',\n",
       " 'W',\n",
       " 'X',\n",
       " 'Y',\n",
       " 'Z',\n",
       " '[',\n",
       " ']',\n",
       " '_',\n",
       " '`',\n",
       " 'a',\n",
       " 'b',\n",
       " 'c',\n",
       " 'd',\n",
       " 'e',\n",
       " 'f',\n",
       " 'g',\n",
       " 'h',\n",
       " 'i',\n",
       " 'j',\n",
       " 'k',\n",
       " 'l',\n",
       " 'm',\n",
       " 'n',\n",
       " 'o',\n",
       " 'p',\n",
       " 'q',\n",
       " 'r',\n",
       " 's',\n",
       " 't',\n",
       " 'u',\n",
       " 'v',\n",
       " 'w',\n",
       " 'x',\n",
       " 'y',\n",
       " 'z',\n",
       " '|',\n",
       " '}'}"
      ]
     },
     "execution_count": 7,
     "metadata": {},
     "output_type": "execute_result"
    }
   ],
   "source": [
    "all_characters"
   ]
  },
  {
   "cell_type": "code",
   "execution_count": 8,
   "metadata": {},
   "outputs": [
    {
     "data": {
      "text/plain": [
       "84"
      ]
     },
     "execution_count": 8,
     "metadata": {},
     "output_type": "execute_result"
    }
   ],
   "source": [
    "len(all_characters)"
   ]
  },
  {
   "cell_type": "code",
   "execution_count": 9,
   "metadata": {},
   "outputs": [
    {
     "data": {
      "text/plain": [
       "{0: '\\n',\n",
       " 1: ' ',\n",
       " 2: '!',\n",
       " 3: '\"',\n",
       " 4: '&',\n",
       " 5: \"'\",\n",
       " 6: '(',\n",
       " 7: ')',\n",
       " 8: ',',\n",
       " 9: '-',\n",
       " 10: '.',\n",
       " 11: '0',\n",
       " 12: '1',\n",
       " 13: '2',\n",
       " 14: '3',\n",
       " 15: '4',\n",
       " 16: '5',\n",
       " 17: '6',\n",
       " 18: '7',\n",
       " 19: '8',\n",
       " 20: '9',\n",
       " 21: ':',\n",
       " 22: ';',\n",
       " 23: '<',\n",
       " 24: '>',\n",
       " 25: '?',\n",
       " 26: 'A',\n",
       " 27: 'B',\n",
       " 28: 'C',\n",
       " 29: 'D',\n",
       " 30: 'E',\n",
       " 31: 'F',\n",
       " 32: 'G',\n",
       " 33: 'H',\n",
       " 34: 'I',\n",
       " 35: 'J',\n",
       " 36: 'K',\n",
       " 37: 'L',\n",
       " 38: 'M',\n",
       " 39: 'N',\n",
       " 40: 'O',\n",
       " 41: 'P',\n",
       " 42: 'Q',\n",
       " 43: 'R',\n",
       " 44: 'S',\n",
       " 45: 'T',\n",
       " 46: 'U',\n",
       " 47: 'V',\n",
       " 48: 'W',\n",
       " 49: 'X',\n",
       " 50: 'Y',\n",
       " 51: 'Z',\n",
       " 52: '[',\n",
       " 53: ']',\n",
       " 54: '_',\n",
       " 55: '`',\n",
       " 56: 'a',\n",
       " 57: 'b',\n",
       " 58: 'c',\n",
       " 59: 'd',\n",
       " 60: 'e',\n",
       " 61: 'f',\n",
       " 62: 'g',\n",
       " 63: 'h',\n",
       " 64: 'i',\n",
       " 65: 'j',\n",
       " 66: 'k',\n",
       " 67: 'l',\n",
       " 68: 'm',\n",
       " 69: 'n',\n",
       " 70: 'o',\n",
       " 71: 'p',\n",
       " 72: 'q',\n",
       " 73: 'r',\n",
       " 74: 's',\n",
       " 75: 't',\n",
       " 76: 'u',\n",
       " 77: 'v',\n",
       " 78: 'w',\n",
       " 79: 'x',\n",
       " 80: 'y',\n",
       " 81: 'z',\n",
       " 82: '|',\n",
       " 83: '}'}"
      ]
     },
     "execution_count": 9,
     "metadata": {},
     "output_type": "execute_result"
    }
   ],
   "source": [
    "# num --> letter\n",
    "decoder = dict(enumerate(sorted(all_characters)))\n",
    "decoder"
   ]
  },
  {
   "cell_type": "code",
   "execution_count": 10,
   "metadata": {},
   "outputs": [],
   "source": [
    "# letter --> num\n",
    "encoder = {char: ind for ind, char in decoder.items()}"
   ]
  },
  {
   "cell_type": "code",
   "execution_count": 11,
   "metadata": {},
   "outputs": [
    {
     "data": {
      "text/plain": [
       "{'\\n': 0,\n",
       " ' ': 1,\n",
       " '!': 2,\n",
       " '\"': 3,\n",
       " '&': 4,\n",
       " \"'\": 5,\n",
       " '(': 6,\n",
       " ')': 7,\n",
       " ',': 8,\n",
       " '-': 9,\n",
       " '.': 10,\n",
       " '0': 11,\n",
       " '1': 12,\n",
       " '2': 13,\n",
       " '3': 14,\n",
       " '4': 15,\n",
       " '5': 16,\n",
       " '6': 17,\n",
       " '7': 18,\n",
       " '8': 19,\n",
       " '9': 20,\n",
       " ':': 21,\n",
       " ';': 22,\n",
       " '<': 23,\n",
       " '>': 24,\n",
       " '?': 25,\n",
       " 'A': 26,\n",
       " 'B': 27,\n",
       " 'C': 28,\n",
       " 'D': 29,\n",
       " 'E': 30,\n",
       " 'F': 31,\n",
       " 'G': 32,\n",
       " 'H': 33,\n",
       " 'I': 34,\n",
       " 'J': 35,\n",
       " 'K': 36,\n",
       " 'L': 37,\n",
       " 'M': 38,\n",
       " 'N': 39,\n",
       " 'O': 40,\n",
       " 'P': 41,\n",
       " 'Q': 42,\n",
       " 'R': 43,\n",
       " 'S': 44,\n",
       " 'T': 45,\n",
       " 'U': 46,\n",
       " 'V': 47,\n",
       " 'W': 48,\n",
       " 'X': 49,\n",
       " 'Y': 50,\n",
       " 'Z': 51,\n",
       " '[': 52,\n",
       " ']': 53,\n",
       " '_': 54,\n",
       " '`': 55,\n",
       " 'a': 56,\n",
       " 'b': 57,\n",
       " 'c': 58,\n",
       " 'd': 59,\n",
       " 'e': 60,\n",
       " 'f': 61,\n",
       " 'g': 62,\n",
       " 'h': 63,\n",
       " 'i': 64,\n",
       " 'j': 65,\n",
       " 'k': 66,\n",
       " 'l': 67,\n",
       " 'm': 68,\n",
       " 'n': 69,\n",
       " 'o': 70,\n",
       " 'p': 71,\n",
       " 'q': 72,\n",
       " 'r': 73,\n",
       " 's': 74,\n",
       " 't': 75,\n",
       " 'u': 76,\n",
       " 'v': 77,\n",
       " 'w': 78,\n",
       " 'x': 79,\n",
       " 'y': 80,\n",
       " 'z': 81,\n",
       " '|': 82,\n",
       " '}': 83}"
      ]
     },
     "execution_count": 11,
     "metadata": {},
     "output_type": "execute_result"
    }
   ],
   "source": [
    "encoder"
   ]
  },
  {
   "cell_type": "code",
   "execution_count": 12,
   "metadata": {},
   "outputs": [],
   "source": [
    "encoded_text = np.array([encoder[char] for char in text])"
   ]
  },
  {
   "cell_type": "code",
   "execution_count": 13,
   "metadata": {},
   "outputs": [
    {
     "data": {
      "text/plain": [
       "array([ 0,  1,  1,  1,  1,  1,  1,  1,  1,  1,  1,  1,  1,  1,  1,  1,  1,\n",
       "        1,  1,  1,  1,  1, 12,  0,  1,  1, 31, 73, 70, 68,  1, 61, 56, 64,\n",
       "       73, 60, 74, 75,  1, 58, 73, 60, 56, 75, 76, 73, 60, 74,  1, 78])"
      ]
     },
     "execution_count": 13,
     "metadata": {},
     "output_type": "execute_result"
    }
   ],
   "source": [
    "encoded_text[:50]"
   ]
  },
  {
   "cell_type": "code",
   "execution_count": 14,
   "metadata": {},
   "outputs": [
    {
     "data": {
      "text/plain": [
       "'B'"
      ]
     },
     "execution_count": 14,
     "metadata": {},
     "output_type": "execute_result"
    }
   ],
   "source": [
    "decoder[27]"
   ]
  },
  {
   "cell_type": "code",
   "execution_count": 15,
   "metadata": {},
   "outputs": [],
   "source": [
    "def one_hot_encoder(encoded_text, num_uni_chars):\n",
    "    \n",
    "    # encoded_text --> batch of encoded text\n",
    "    # num_uni_chars --> len(set(text))\n",
    "    \n",
    "    one_hot = np.zeros((encoded_text.size, num_uni_chars))\n",
    "    \n",
    "    one_hot = one_hot.astype(np.float32)\n",
    "    \n",
    "    one_hot[np.arange(one_hot.shape[0]), encoded_text.flatten()]  = 1.0\n",
    "    \n",
    "    one_hot = one_hot.reshape((*encoded_text.shape, num_uni_chars))\n",
    "    \n",
    "    return one_hot"
   ]
  },
  {
   "cell_type": "code",
   "execution_count": 16,
   "metadata": {},
   "outputs": [
    {
     "data": {
      "text/plain": [
       "array([1, 2, 0])"
      ]
     },
     "execution_count": 16,
     "metadata": {},
     "output_type": "execute_result"
    }
   ],
   "source": [
    "arr = np.array([1, 2, 0])\n",
    "arr"
   ]
  },
  {
   "cell_type": "code",
   "execution_count": 17,
   "metadata": {},
   "outputs": [
    {
     "data": {
      "text/plain": [
       "array([[0., 1., 0.],\n",
       "       [0., 0., 1.],\n",
       "       [1., 0., 0.]], dtype=float32)"
      ]
     },
     "execution_count": 17,
     "metadata": {},
     "output_type": "execute_result"
    }
   ],
   "source": [
    "one_hot_encoder(arr, 3)"
   ]
  },
  {
   "cell_type": "code",
   "execution_count": null,
   "metadata": {},
   "outputs": [],
   "source": []
  },
  {
   "cell_type": "code",
   "execution_count": 18,
   "metadata": {},
   "outputs": [],
   "source": [
    "example_text = np.arange(10)"
   ]
  },
  {
   "cell_type": "code",
   "execution_count": 19,
   "metadata": {},
   "outputs": [
    {
     "data": {
      "text/plain": [
       "array([0, 1, 2, 3, 4, 5, 6, 7, 8, 9])"
      ]
     },
     "execution_count": 19,
     "metadata": {},
     "output_type": "execute_result"
    }
   ],
   "source": [
    "example_text"
   ]
  },
  {
   "cell_type": "code",
   "execution_count": 20,
   "metadata": {},
   "outputs": [
    {
     "data": {
      "text/plain": [
       "array([[0, 1],\n",
       "       [2, 3],\n",
       "       [4, 5],\n",
       "       [6, 7],\n",
       "       [8, 9]])"
      ]
     },
     "execution_count": 20,
     "metadata": {},
     "output_type": "execute_result"
    }
   ],
   "source": [
    "example_text.reshape((5,-1))"
   ]
  },
  {
   "cell_type": "code",
   "execution_count": 21,
   "metadata": {},
   "outputs": [],
   "source": [
    "def generate_batches(encoded_text, samp_per_batch=10, seq_len=50):\n",
    "    \n",
    "    # X : encoded text of legth seq_len\n",
    "    # Y : encoded text shifted by one\n",
    "    \n",
    "    # how many chars per batch?\n",
    "    char_per_batch = samp_per_batch * seq_len\n",
    "    \n",
    "    # how many batches can we make, given the len of the encoded text?\n",
    "    num_batches_avail = int(len(encoded_text)/char_per_batch)\n",
    "    \n",
    "    # Cut off the end of the encoded text, that won't fit evenly into a batch\n",
    "    encoded_text = encoded_text[:num_batches_avail * char_per_batch]\n",
    "\n",
    "    encoded_text = encoded_text.reshape((samp_per_batch, -1))\n",
    "    \n",
    "    for n in range(0, encoded_text.shape[1], seq_len):\n",
    "        \n",
    "        x = encoded_text[:, n:n+seq_len]\n",
    "        \n",
    "        # zeros array to the same shape as x\n",
    "        y = np.zeros_like(x)\n",
    "        \n",
    "        try:\n",
    "            y[:, :-1] = x[:, 1:]\n",
    "            y[:, -1] = encoded_text[:, n+seq_len]\n",
    "        except:\n",
    "            y[:, :-1] = x[:, 1:]\n",
    "            y[:,-1] = encoded_text[:, 0]\n",
    "        \n",
    "        yield x,y"
   ]
  },
  {
   "cell_type": "code",
   "execution_count": 22,
   "metadata": {},
   "outputs": [
    {
     "data": {
      "text/plain": [
       "array([0, 1, 1, 1, 1, 1, 1, 1, 1, 1, 1, 1, 1, 1, 1, 1, 1, 1, 1, 1])"
      ]
     },
     "execution_count": 22,
     "metadata": {},
     "output_type": "execute_result"
    }
   ],
   "source": [
    "sample_text = encoded_text[:20]\n",
    "sample_text"
   ]
  },
  {
   "cell_type": "code",
   "execution_count": 23,
   "metadata": {},
   "outputs": [],
   "source": [
    "batch_generator = generate_batches(sample_text, samp_per_batch=2, seq_len=5)"
   ]
  },
  {
   "cell_type": "code",
   "execution_count": 24,
   "metadata": {},
   "outputs": [],
   "source": [
    "x,y = next(batch_generator)"
   ]
  },
  {
   "cell_type": "code",
   "execution_count": 25,
   "metadata": {},
   "outputs": [
    {
     "data": {
      "text/plain": [
       "array([[0, 1, 1, 1, 1],\n",
       "       [1, 1, 1, 1, 1]])"
      ]
     },
     "execution_count": 25,
     "metadata": {},
     "output_type": "execute_result"
    }
   ],
   "source": [
    "x"
   ]
  },
  {
   "cell_type": "code",
   "execution_count": 26,
   "metadata": {},
   "outputs": [
    {
     "data": {
      "text/plain": [
       "array([[1, 1, 1, 1, 1],\n",
       "       [1, 1, 1, 1, 1]])"
      ]
     },
     "execution_count": 26,
     "metadata": {},
     "output_type": "execute_result"
    }
   ],
   "source": [
    "y"
   ]
  },
  {
   "cell_type": "code",
   "execution_count": 27,
   "metadata": {},
   "outputs": [],
   "source": [
    "class CharModel(nn.Module):\n",
    "    \n",
    "    def __init__(self, all_chars, num_hidden=256, num_layers=4, drop_prob=0.5, use_gpu=False):\n",
    "        \n",
    "        super().__init__()\n",
    "        \n",
    "        self.drop_prob = drop_prob\n",
    "        self.num_layers = num_layers\n",
    "        self.num_hidden = num_hidden\n",
    "        self.use_gpu = use_gpu\n",
    "        \n",
    "        self.all_chars = all_chars\n",
    "        self.decoder = dict(enumerate(sorted(all_chars)))\n",
    "        self.encoder = {char: ind for ind, char in decoder.items()}\n",
    "        \n",
    "        self.lstm = nn.LSTM(len(self.all_chars), num_hidden, num_layers, dropout=drop_prob, batch_first=True)\n",
    "        \n",
    "        self.dropout = nn.Dropout(drop_prob)\n",
    "        \n",
    "        self.fc_linear = nn.Linear(num_hidden, len(self.all_chars))\n",
    "    \n",
    "    def forward(self, x, hidden):\n",
    "        \n",
    "        lstm_output, hidden = self.lstm(x, hidden)\n",
    "        \n",
    "        drop_output = self.dropout(lstm_output)\n",
    "        \n",
    "        drop_output = drop_output.contiguous().view(-1, self.num_hidden)\n",
    "        \n",
    "        final_out = self.fc_linear(drop_output)\n",
    "        \n",
    "        return final_out, hidden\n",
    "    \n",
    "    def hidden_state(self, batch_size):\n",
    "        \n",
    "        if self.use_gpu:\n",
    "            \n",
    "            hidden = (torch.zeros(self.num_layers, batch_size, self.num_hidden).cuda(), torch.zeros(self.num_layers, batch_size, self.num_hidden).cuda())\n",
    "        else:\n",
    "            hidden = (torch.zeros(self.num_layers, batch_size, self.num_hidden), torch.zeros(self.num_layers, batch_size, self.num_hidden))\n",
    "        \n",
    "        return hidden\n",
    "    "
   ]
  },
  {
   "cell_type": "code",
   "execution_count": 28,
   "metadata": {},
   "outputs": [],
   "source": [
    "model = CharModel(all_chars=all_characters,\n",
    "                  num_hidden=512,\n",
    "                  num_layers=3,\n",
    "                  drop_prob=0.5,\n",
    "                  use_gpu=True)"
   ]
  },
  {
   "cell_type": "code",
   "execution_count": 29,
   "metadata": {},
   "outputs": [
    {
     "data": {
      "text/plain": [
       "5470292"
      ]
     },
     "execution_count": 29,
     "metadata": {},
     "output_type": "execute_result"
    }
   ],
   "source": [
    "total_param = []\n",
    "\n",
    "for p in model.parameters():\n",
    "    total_param.append(int(p.numel()))\n",
    "\n",
    "sum(total_param)"
   ]
  },
  {
   "cell_type": "code",
   "execution_count": 30,
   "metadata": {},
   "outputs": [],
   "source": [
    "optimizer = torch.optim.Adam(model.parameters(), lr=0.001)\n",
    "criterion = nn.CrossEntropyLoss()"
   ]
  },
  {
   "cell_type": "code",
   "execution_count": 31,
   "metadata": {},
   "outputs": [
    {
     "data": {
      "text/plain": [
       "(4901048, 544561)"
      ]
     },
     "execution_count": 31,
     "metadata": {},
     "output_type": "execute_result"
    }
   ],
   "source": [
    "train_percent = 0.9\n",
    "train_ind = int(len(encoded_text)*train_percent)\n",
    "\n",
    "train_data = encoded_text[:train_ind]\n",
    "val_data = encoded_text[train_ind:]\n",
    "\n",
    "len(train_data), len(val_data)"
   ]
  },
  {
   "cell_type": "code",
   "execution_count": 34,
   "metadata": {},
   "outputs": [],
   "source": [
    "# VARIABLES\n",
    "\n",
    "epochs = 25\n",
    "batch_size = 128\n",
    "\n",
    "seq_len = 100\n",
    "\n",
    "tracker = 0\n",
    "num_char = max(encoded_text) + 1\n"
   ]
  },
  {
   "cell_type": "code",
   "execution_count": 35,
   "metadata": {},
   "outputs": [
    {
     "name": "stdout",
     "output_type": "stream",
     "text": [
      "EPOCH: 0 step: 25 VAL LOSS: 3.2125515937805176\n",
      "EPOCH: 0 step: 50 VAL LOSS: 3.181339979171753\n",
      "EPOCH: 0 step: 75 VAL LOSS: 3.0216686725616455\n",
      "EPOCH: 0 step: 100 VAL LOSS: 2.930293321609497\n",
      "EPOCH: 0 step: 125 VAL LOSS: 2.7969064712524414\n",
      "EPOCH: 0 step: 150 VAL LOSS: 2.6831798553466797\n",
      "EPOCH: 0 step: 175 VAL LOSS: 2.6013193130493164\n",
      "EPOCH: 0 step: 200 VAL LOSS: 2.519230842590332\n",
      "EPOCH: 0 step: 225 VAL LOSS: 2.4376440048217773\n",
      "EPOCH: 0 step: 250 VAL LOSS: 2.360339641571045\n",
      "EPOCH: 0 step: 275 VAL LOSS: 2.293546199798584\n",
      "EPOCH: 0 step: 300 VAL LOSS: 2.2196154594421387\n",
      "EPOCH: 0 step: 325 VAL LOSS: 2.1654555797576904\n",
      "EPOCH: 0 step: 350 VAL LOSS: 2.1169958114624023\n",
      "EPOCH: 0 step: 375 VAL LOSS: 2.0793216228485107\n",
      "EPOCH: 1 step: 400 VAL LOSS: 2.0435314178466797\n",
      "EPOCH: 1 step: 425 VAL LOSS: 2.0053184032440186\n",
      "EPOCH: 1 step: 450 VAL LOSS: 1.9778285026550293\n",
      "EPOCH: 1 step: 475 VAL LOSS: 1.9479742050170898\n",
      "EPOCH: 1 step: 500 VAL LOSS: 1.9213474988937378\n",
      "EPOCH: 1 step: 525 VAL LOSS: 1.899275302886963\n",
      "EPOCH: 1 step: 550 VAL LOSS: 1.8791520595550537\n",
      "EPOCH: 1 step: 575 VAL LOSS: 1.854387640953064\n",
      "EPOCH: 1 step: 600 VAL LOSS: 1.8298895359039307\n",
      "EPOCH: 1 step: 625 VAL LOSS: 1.8163379430770874\n",
      "EPOCH: 1 step: 650 VAL LOSS: 1.7934075593948364\n",
      "EPOCH: 1 step: 675 VAL LOSS: 1.772618055343628\n",
      "EPOCH: 1 step: 700 VAL LOSS: 1.753556728363037\n",
      "EPOCH: 1 step: 725 VAL LOSS: 1.7410001754760742\n",
      "EPOCH: 1 step: 750 VAL LOSS: 1.724555492401123\n",
      "EPOCH: 2 step: 775 VAL LOSS: 1.7073971033096313\n",
      "EPOCH: 2 step: 800 VAL LOSS: 1.6906694173812866\n",
      "EPOCH: 2 step: 825 VAL LOSS: 1.676302433013916\n",
      "EPOCH: 2 step: 850 VAL LOSS: 1.664926290512085\n",
      "EPOCH: 2 step: 875 VAL LOSS: 1.6487784385681152\n",
      "EPOCH: 2 step: 900 VAL LOSS: 1.6396366357803345\n",
      "EPOCH: 2 step: 925 VAL LOSS: 1.628533959388733\n",
      "EPOCH: 2 step: 950 VAL LOSS: 1.6149582862854004\n",
      "EPOCH: 2 step: 975 VAL LOSS: 1.6047778129577637\n",
      "EPOCH: 2 step: 1000 VAL LOSS: 1.5939899682998657\n",
      "EPOCH: 2 step: 1025 VAL LOSS: 1.5872294902801514\n",
      "EPOCH: 2 step: 1050 VAL LOSS: 1.5786775350570679\n",
      "EPOCH: 2 step: 1075 VAL LOSS: 1.5654782056808472\n",
      "EPOCH: 2 step: 1100 VAL LOSS: 1.557663083076477\n",
      "EPOCH: 2 step: 1125 VAL LOSS: 1.5537805557250977\n",
      "EPOCH: 3 step: 1150 VAL LOSS: 1.5449137687683105\n",
      "EPOCH: 3 step: 1175 VAL LOSS: 1.544777274131775\n",
      "EPOCH: 3 step: 1200 VAL LOSS: 1.5315600633621216\n",
      "EPOCH: 3 step: 1225 VAL LOSS: 1.5230239629745483\n",
      "EPOCH: 3 step: 1250 VAL LOSS: 1.5182924270629883\n",
      "EPOCH: 3 step: 1275 VAL LOSS: 1.5102583169937134\n",
      "EPOCH: 3 step: 1300 VAL LOSS: 1.5034019947052002\n",
      "EPOCH: 3 step: 1325 VAL LOSS: 1.4968016147613525\n",
      "EPOCH: 3 step: 1350 VAL LOSS: 1.4876703023910522\n",
      "EPOCH: 3 step: 1375 VAL LOSS: 1.483217716217041\n",
      "EPOCH: 3 step: 1400 VAL LOSS: 1.478744626045227\n",
      "EPOCH: 3 step: 1425 VAL LOSS: 1.472192406654358\n",
      "EPOCH: 3 step: 1450 VAL LOSS: 1.4673943519592285\n",
      "EPOCH: 3 step: 1475 VAL LOSS: 1.4665396213531494\n",
      "EPOCH: 3 step: 1500 VAL LOSS: 1.4641540050506592\n",
      "EPOCH: 3 step: 1525 VAL LOSS: 1.4570648670196533\n",
      "EPOCH: 4 step: 1550 VAL LOSS: 1.456005573272705\n",
      "EPOCH: 4 step: 1575 VAL LOSS: 1.4483762979507446\n",
      "EPOCH: 4 step: 1600 VAL LOSS: 1.443425178527832\n",
      "EPOCH: 4 step: 1625 VAL LOSS: 1.4405663013458252\n",
      "EPOCH: 4 step: 1650 VAL LOSS: 1.4334921836853027\n",
      "EPOCH: 4 step: 1675 VAL LOSS: 1.4341192245483398\n",
      "EPOCH: 4 step: 1700 VAL LOSS: 1.429750919342041\n",
      "EPOCH: 4 step: 1725 VAL LOSS: 1.4265938997268677\n",
      "EPOCH: 4 step: 1750 VAL LOSS: 1.421309232711792\n",
      "EPOCH: 4 step: 1775 VAL LOSS: 1.4174699783325195\n",
      "EPOCH: 4 step: 1800 VAL LOSS: 1.4159470796585083\n",
      "EPOCH: 4 step: 1825 VAL LOSS: 1.413045048713684\n",
      "EPOCH: 4 step: 1850 VAL LOSS: 1.4110002517700195\n",
      "EPOCH: 4 step: 1875 VAL LOSS: 1.4084348678588867\n",
      "EPOCH: 4 step: 1900 VAL LOSS: 1.4023399353027344\n",
      "EPOCH: 5 step: 1925 VAL LOSS: 1.4055944681167603\n",
      "EPOCH: 5 step: 1950 VAL LOSS: 1.4034929275512695\n",
      "EPOCH: 5 step: 1975 VAL LOSS: 1.3970303535461426\n",
      "EPOCH: 5 step: 2000 VAL LOSS: 1.3932406902313232\n",
      "EPOCH: 5 step: 2025 VAL LOSS: 1.3936576843261719\n",
      "EPOCH: 5 step: 2050 VAL LOSS: 1.3910647630691528\n",
      "EPOCH: 5 step: 2075 VAL LOSS: 1.3878616094589233\n",
      "EPOCH: 5 step: 2100 VAL LOSS: 1.3859776258468628\n",
      "EPOCH: 5 step: 2125 VAL LOSS: 1.3860124349594116\n",
      "EPOCH: 5 step: 2150 VAL LOSS: 1.3800221681594849\n",
      "EPOCH: 5 step: 2175 VAL LOSS: 1.3804186582565308\n",
      "EPOCH: 5 step: 2200 VAL LOSS: 1.3854649066925049\n",
      "EPOCH: 5 step: 2225 VAL LOSS: 1.3784250020980835\n",
      "EPOCH: 5 step: 2250 VAL LOSS: 1.3751695156097412\n",
      "EPOCH: 5 step: 2275 VAL LOSS: 1.3764066696166992\n",
      "EPOCH: 6 step: 2300 VAL LOSS: 1.3769035339355469\n",
      "EPOCH: 6 step: 2325 VAL LOSS: 1.3701874017715454\n",
      "EPOCH: 6 step: 2350 VAL LOSS: 1.3709264993667603\n",
      "EPOCH: 6 step: 2375 VAL LOSS: 1.364494800567627\n",
      "EPOCH: 6 step: 2400 VAL LOSS: 1.369093656539917\n",
      "EPOCH: 6 step: 2425 VAL LOSS: 1.3630787134170532\n",
      "EPOCH: 6 step: 2450 VAL LOSS: 1.3636349439620972\n",
      "EPOCH: 6 step: 2475 VAL LOSS: 1.3597841262817383\n",
      "EPOCH: 6 step: 2500 VAL LOSS: 1.3582797050476074\n",
      "EPOCH: 6 step: 2525 VAL LOSS: 1.362066626548767\n",
      "EPOCH: 6 step: 2550 VAL LOSS: 1.360957384109497\n",
      "EPOCH: 6 step: 2575 VAL LOSS: 1.3609535694122314\n",
      "EPOCH: 6 step: 2600 VAL LOSS: 1.3572821617126465\n",
      "EPOCH: 6 step: 2625 VAL LOSS: 1.3538517951965332\n",
      "EPOCH: 6 step: 2650 VAL LOSS: 1.357527732849121\n",
      "EPOCH: 7 step: 2675 VAL LOSS: 1.351628065109253\n",
      "EPOCH: 7 step: 2700 VAL LOSS: 1.3491119146347046\n",
      "EPOCH: 7 step: 2725 VAL LOSS: 1.3491723537445068\n",
      "EPOCH: 7 step: 2750 VAL LOSS: 1.3441811800003052\n",
      "EPOCH: 7 step: 2775 VAL LOSS: 1.3423610925674438\n",
      "EPOCH: 7 step: 2800 VAL LOSS: 1.3419303894042969\n",
      "EPOCH: 7 step: 2825 VAL LOSS: 1.3419958353042603\n",
      "EPOCH: 7 step: 2850 VAL LOSS: 1.3423954248428345\n",
      "EPOCH: 7 step: 2875 VAL LOSS: 1.3398512601852417\n",
      "EPOCH: 7 step: 2900 VAL LOSS: 1.338728904724121\n",
      "EPOCH: 7 step: 2925 VAL LOSS: 1.3380056619644165\n",
      "EPOCH: 7 step: 2950 VAL LOSS: 1.3377913236618042\n",
      "EPOCH: 7 step: 2975 VAL LOSS: 1.3356149196624756\n",
      "EPOCH: 7 step: 3000 VAL LOSS: 1.335295557975769\n",
      "EPOCH: 7 step: 3025 VAL LOSS: 1.3428648710250854\n",
      "EPOCH: 7 step: 3050 VAL LOSS: 1.3332188129425049\n",
      "EPOCH: 8 step: 3075 VAL LOSS: 1.3338232040405273\n",
      "EPOCH: 8 step: 3100 VAL LOSS: 1.332268476486206\n",
      "EPOCH: 8 step: 3125 VAL LOSS: 1.330883502960205\n",
      "EPOCH: 8 step: 3150 VAL LOSS: 1.3291653394699097\n",
      "EPOCH: 8 step: 3175 VAL LOSS: 1.329585075378418\n",
      "EPOCH: 8 step: 3200 VAL LOSS: 1.3296058177947998\n",
      "EPOCH: 8 step: 3225 VAL LOSS: 1.3238160610198975\n",
      "EPOCH: 8 step: 3250 VAL LOSS: 1.3233850002288818\n",
      "EPOCH: 8 step: 3275 VAL LOSS: 1.3234540224075317\n",
      "EPOCH: 8 step: 3300 VAL LOSS: 1.3238136768341064\n",
      "EPOCH: 8 step: 3325 VAL LOSS: 1.324649691581726\n",
      "EPOCH: 8 step: 3350 VAL LOSS: 1.3243335485458374\n",
      "EPOCH: 8 step: 3375 VAL LOSS: 1.3199251890182495\n",
      "EPOCH: 8 step: 3400 VAL LOSS: 1.3247796297073364\n",
      "EPOCH: 8 step: 3425 VAL LOSS: 1.3185393810272217\n",
      "EPOCH: 9 step: 3450 VAL LOSS: 1.3199639320373535\n",
      "EPOCH: 9 step: 3475 VAL LOSS: 1.3185319900512695\n",
      "EPOCH: 9 step: 3500 VAL LOSS: 1.3180019855499268\n",
      "EPOCH: 9 step: 3525 VAL LOSS: 1.3170008659362793\n",
      "EPOCH: 9 step: 3550 VAL LOSS: 1.317442774772644\n",
      "EPOCH: 9 step: 3575 VAL LOSS: 1.3162872791290283\n",
      "EPOCH: 9 step: 3600 VAL LOSS: 1.3197935819625854\n",
      "EPOCH: 9 step: 3625 VAL LOSS: 1.3162044286727905\n",
      "EPOCH: 9 step: 3650 VAL LOSS: 1.3143750429153442\n",
      "EPOCH: 9 step: 3675 VAL LOSS: 1.3145174980163574\n",
      "EPOCH: 9 step: 3700 VAL LOSS: 1.3124842643737793\n",
      "EPOCH: 9 step: 3725 VAL LOSS: 1.3141658306121826\n",
      "EPOCH: 9 step: 3750 VAL LOSS: 1.312038540840149\n",
      "EPOCH: 9 step: 3775 VAL LOSS: 1.3128914833068848\n",
      "EPOCH: 9 step: 3800 VAL LOSS: 1.314624309539795\n",
      "EPOCH: 10 step: 3825 VAL LOSS: 1.3096518516540527\n",
      "EPOCH: 10 step: 3850 VAL LOSS: 1.309830665588379\n",
      "EPOCH: 10 step: 3875 VAL LOSS: 1.3135497570037842\n",
      "EPOCH: 10 step: 3900 VAL LOSS: 1.313755750656128\n",
      "EPOCH: 10 step: 3925 VAL LOSS: 1.3080226182937622\n",
      "EPOCH: 10 step: 3950 VAL LOSS: 1.307459831237793\n",
      "EPOCH: 10 step: 3975 VAL LOSS: 1.308251142501831\n",
      "EPOCH: 10 step: 4000 VAL LOSS: 1.3109432458877563\n",
      "EPOCH: 10 step: 4025 VAL LOSS: 1.3116885423660278\n",
      "EPOCH: 10 step: 4050 VAL LOSS: 1.3071385622024536\n",
      "EPOCH: 10 step: 4075 VAL LOSS: 1.3071900606155396\n",
      "EPOCH: 10 step: 4100 VAL LOSS: 1.306939959526062\n",
      "EPOCH: 10 step: 4125 VAL LOSS: 1.3047823905944824\n",
      "EPOCH: 10 step: 4150 VAL LOSS: 1.3070437908172607\n",
      "EPOCH: 10 step: 4175 VAL LOSS: 1.3051249980926514\n",
      "EPOCH: 10 step: 4200 VAL LOSS: 1.302605390548706\n",
      "EPOCH: 11 step: 4225 VAL LOSS: 1.303035020828247\n"
     ]
    },
    {
     "name": "stdout",
     "output_type": "stream",
     "text": [
      "EPOCH: 11 step: 4250 VAL LOSS: 1.3064465522766113\n",
      "EPOCH: 11 step: 4275 VAL LOSS: 1.3033490180969238\n",
      "EPOCH: 11 step: 4300 VAL LOSS: 1.2983914613723755\n",
      "EPOCH: 11 step: 4325 VAL LOSS: 1.3013062477111816\n",
      "EPOCH: 11 step: 4350 VAL LOSS: 1.3034193515777588\n",
      "EPOCH: 11 step: 4375 VAL LOSS: 1.3011956214904785\n",
      "EPOCH: 11 step: 4400 VAL LOSS: 1.301811695098877\n",
      "EPOCH: 11 step: 4425 VAL LOSS: 1.2997233867645264\n",
      "EPOCH: 11 step: 4450 VAL LOSS: 1.3011844158172607\n",
      "EPOCH: 11 step: 4475 VAL LOSS: 1.2964868545532227\n",
      "EPOCH: 11 step: 4500 VAL LOSS: 1.2991033792495728\n",
      "EPOCH: 11 step: 4525 VAL LOSS: 1.3001387119293213\n",
      "EPOCH: 11 step: 4550 VAL LOSS: 1.3006923198699951\n",
      "EPOCH: 11 step: 4575 VAL LOSS: 1.2931530475616455\n",
      "EPOCH: 12 step: 4600 VAL LOSS: 1.2955231666564941\n",
      "EPOCH: 12 step: 4625 VAL LOSS: 1.2982101440429688\n",
      "EPOCH: 12 step: 4650 VAL LOSS: 1.2955031394958496\n",
      "EPOCH: 12 step: 4675 VAL LOSS: 1.2970658540725708\n",
      "EPOCH: 12 step: 4700 VAL LOSS: 1.298282265663147\n",
      "EPOCH: 12 step: 4725 VAL LOSS: 1.2954405546188354\n",
      "EPOCH: 12 step: 4750 VAL LOSS: 1.293263554573059\n",
      "EPOCH: 12 step: 4775 VAL LOSS: 1.296485185623169\n",
      "EPOCH: 12 step: 4800 VAL LOSS: 1.2980940341949463\n",
      "EPOCH: 12 step: 4825 VAL LOSS: 1.2961280345916748\n",
      "EPOCH: 12 step: 4850 VAL LOSS: 1.2958673238754272\n",
      "EPOCH: 12 step: 4875 VAL LOSS: 1.2988739013671875\n",
      "EPOCH: 12 step: 4900 VAL LOSS: 1.2913391590118408\n",
      "EPOCH: 12 step: 4925 VAL LOSS: 1.2902826070785522\n",
      "EPOCH: 12 step: 4950 VAL LOSS: 1.2902847528457642\n",
      "EPOCH: 13 step: 4975 VAL LOSS: 1.292668104171753\n",
      "EPOCH: 13 step: 5000 VAL LOSS: 1.2930822372436523\n",
      "EPOCH: 13 step: 5025 VAL LOSS: 1.2924493551254272\n",
      "EPOCH: 13 step: 5050 VAL LOSS: 1.2902041673660278\n",
      "EPOCH: 13 step: 5075 VAL LOSS: 1.2897998094558716\n",
      "EPOCH: 13 step: 5100 VAL LOSS: 1.2881797552108765\n",
      "EPOCH: 13 step: 5125 VAL LOSS: 1.2888951301574707\n",
      "EPOCH: 13 step: 5150 VAL LOSS: 1.2904473543167114\n",
      "EPOCH: 13 step: 5175 VAL LOSS: 1.2880735397338867\n",
      "EPOCH: 13 step: 5200 VAL LOSS: 1.289474606513977\n",
      "EPOCH: 13 step: 5225 VAL LOSS: 1.2938263416290283\n",
      "EPOCH: 13 step: 5250 VAL LOSS: 1.2927507162094116\n",
      "EPOCH: 13 step: 5275 VAL LOSS: 1.2894283533096313\n",
      "EPOCH: 13 step: 5300 VAL LOSS: 1.2859604358673096\n",
      "EPOCH: 13 step: 5325 VAL LOSS: 1.2864341735839844\n",
      "EPOCH: 14 step: 5350 VAL LOSS: 1.286339282989502\n",
      "EPOCH: 14 step: 5375 VAL LOSS: 1.289696455001831\n",
      "EPOCH: 14 step: 5400 VAL LOSS: 1.289231777191162\n",
      "EPOCH: 14 step: 5425 VAL LOSS: 1.2869266271591187\n",
      "EPOCH: 14 step: 5450 VAL LOSS: 1.2843918800354004\n",
      "EPOCH: 14 step: 5475 VAL LOSS: 1.2849448919296265\n",
      "EPOCH: 14 step: 5500 VAL LOSS: 1.2820550203323364\n",
      "EPOCH: 14 step: 5525 VAL LOSS: 1.2807245254516602\n",
      "EPOCH: 14 step: 5550 VAL LOSS: 1.2855329513549805\n",
      "EPOCH: 14 step: 5575 VAL LOSS: 1.2874886989593506\n",
      "EPOCH: 14 step: 5600 VAL LOSS: 1.282314419746399\n",
      "EPOCH: 14 step: 5625 VAL LOSS: 1.2852874994277954\n",
      "EPOCH: 14 step: 5650 VAL LOSS: 1.2832194566726685\n",
      "EPOCH: 14 step: 5675 VAL LOSS: 1.280842900276184\n",
      "EPOCH: 14 step: 5700 VAL LOSS: 1.2832776308059692\n",
      "EPOCH: 14 step: 5725 VAL LOSS: 1.2805812358856201\n",
      "EPOCH: 15 step: 5750 VAL LOSS: 1.2803796529769897\n",
      "EPOCH: 15 step: 5775 VAL LOSS: 1.2809284925460815\n",
      "EPOCH: 15 step: 5800 VAL LOSS: 1.2810392379760742\n",
      "EPOCH: 15 step: 5825 VAL LOSS: 1.2801207304000854\n",
      "EPOCH: 15 step: 5850 VAL LOSS: 1.2818750143051147\n",
      "EPOCH: 15 step: 5875 VAL LOSS: 1.2839866876602173\n",
      "EPOCH: 15 step: 5900 VAL LOSS: 1.2791937589645386\n",
      "EPOCH: 15 step: 5925 VAL LOSS: 1.2788786888122559\n",
      "EPOCH: 15 step: 5950 VAL LOSS: 1.2800097465515137\n",
      "EPOCH: 15 step: 5975 VAL LOSS: 1.2830872535705566\n",
      "EPOCH: 15 step: 6000 VAL LOSS: 1.2846689224243164\n",
      "EPOCH: 15 step: 6025 VAL LOSS: 1.2871447801589966\n",
      "EPOCH: 15 step: 6050 VAL LOSS: 1.2767438888549805\n",
      "EPOCH: 15 step: 6075 VAL LOSS: 1.284255027770996\n",
      "EPOCH: 15 step: 6100 VAL LOSS: 1.2802616357803345\n",
      "EPOCH: 16 step: 6125 VAL LOSS: 1.2786036729812622\n",
      "EPOCH: 16 step: 6150 VAL LOSS: 1.2822258472442627\n",
      "EPOCH: 16 step: 6175 VAL LOSS: 1.2825087308883667\n",
      "EPOCH: 16 step: 6200 VAL LOSS: 1.278988003730774\n",
      "EPOCH: 16 step: 6225 VAL LOSS: 1.2813029289245605\n",
      "EPOCH: 16 step: 6250 VAL LOSS: 1.2788572311401367\n",
      "EPOCH: 16 step: 6275 VAL LOSS: 1.280001163482666\n",
      "EPOCH: 16 step: 6300 VAL LOSS: 1.2805520296096802\n",
      "EPOCH: 16 step: 6325 VAL LOSS: 1.2814348936080933\n",
      "EPOCH: 16 step: 6350 VAL LOSS: 1.283450961112976\n",
      "EPOCH: 16 step: 6375 VAL LOSS: 1.2780413627624512\n",
      "EPOCH: 16 step: 6400 VAL LOSS: 1.2795073986053467\n",
      "EPOCH: 16 step: 6425 VAL LOSS: 1.2796754837036133\n",
      "EPOCH: 16 step: 6450 VAL LOSS: 1.2762762308120728\n",
      "EPOCH: 16 step: 6475 VAL LOSS: 1.277155876159668\n",
      "EPOCH: 17 step: 6500 VAL LOSS: 1.2746411561965942\n",
      "EPOCH: 17 step: 6525 VAL LOSS: 1.2793056964874268\n",
      "EPOCH: 17 step: 6550 VAL LOSS: 1.2815974950790405\n",
      "EPOCH: 17 step: 6575 VAL LOSS: 1.2795615196228027\n",
      "EPOCH: 17 step: 6600 VAL LOSS: 1.273209571838379\n",
      "EPOCH: 17 step: 6625 VAL LOSS: 1.2763172388076782\n",
      "EPOCH: 17 step: 6650 VAL LOSS: 1.2751561403274536\n",
      "EPOCH: 17 step: 6675 VAL LOSS: 1.2741059064865112\n",
      "EPOCH: 17 step: 6700 VAL LOSS: 1.2798793315887451\n",
      "EPOCH: 17 step: 6725 VAL LOSS: 1.2786860466003418\n",
      "EPOCH: 17 step: 6750 VAL LOSS: 1.2778221368789673\n",
      "EPOCH: 17 step: 6775 VAL LOSS: 1.2778133153915405\n",
      "EPOCH: 17 step: 6800 VAL LOSS: 1.2744743824005127\n",
      "EPOCH: 17 step: 6825 VAL LOSS: 1.2745999097824097\n",
      "EPOCH: 17 step: 6850 VAL LOSS: 1.2784092426300049\n",
      "EPOCH: 17 step: 6875 VAL LOSS: 1.275530219078064\n",
      "EPOCH: 18 step: 6900 VAL LOSS: 1.274562954902649\n",
      "EPOCH: 18 step: 6925 VAL LOSS: 1.2811949253082275\n",
      "EPOCH: 18 step: 6950 VAL LOSS: 1.2770284414291382\n",
      "EPOCH: 18 step: 6975 VAL LOSS: 1.2733731269836426\n",
      "EPOCH: 18 step: 7000 VAL LOSS: 1.270529866218567\n",
      "EPOCH: 18 step: 7025 VAL LOSS: 1.2724690437316895\n",
      "EPOCH: 18 step: 7050 VAL LOSS: 1.273565411567688\n",
      "EPOCH: 18 step: 7075 VAL LOSS: 1.2746738195419312\n",
      "EPOCH: 18 step: 7100 VAL LOSS: 1.2753280401229858\n",
      "EPOCH: 18 step: 7125 VAL LOSS: 1.2763482332229614\n",
      "EPOCH: 18 step: 7150 VAL LOSS: 1.277083158493042\n",
      "EPOCH: 18 step: 7175 VAL LOSS: 1.2740994691848755\n",
      "EPOCH: 18 step: 7200 VAL LOSS: 1.2701632976531982\n",
      "EPOCH: 18 step: 7225 VAL LOSS: 1.272163987159729\n",
      "EPOCH: 18 step: 7250 VAL LOSS: 1.269854187965393\n",
      "EPOCH: 19 step: 7275 VAL LOSS: 1.2710156440734863\n",
      "EPOCH: 19 step: 7300 VAL LOSS: 1.274610161781311\n",
      "EPOCH: 19 step: 7325 VAL LOSS: 1.272445797920227\n",
      "EPOCH: 19 step: 7350 VAL LOSS: 1.2696995735168457\n",
      "EPOCH: 19 step: 7375 VAL LOSS: 1.2709264755249023\n",
      "EPOCH: 19 step: 7400 VAL LOSS: 1.2736408710479736\n",
      "EPOCH: 19 step: 7425 VAL LOSS: 1.2726714611053467\n",
      "EPOCH: 19 step: 7450 VAL LOSS: 1.2712846994400024\n",
      "EPOCH: 19 step: 7475 VAL LOSS: 1.272914171218872\n",
      "EPOCH: 19 step: 7500 VAL LOSS: 1.2767192125320435\n",
      "EPOCH: 19 step: 7525 VAL LOSS: 1.2748847007751465\n",
      "EPOCH: 19 step: 7550 VAL LOSS: 1.2738547325134277\n",
      "EPOCH: 19 step: 7575 VAL LOSS: 1.270054578781128\n",
      "EPOCH: 19 step: 7600 VAL LOSS: 1.2699575424194336\n",
      "EPOCH: 19 step: 7625 VAL LOSS: 1.2695093154907227\n",
      "EPOCH: 20 step: 7650 VAL LOSS: 1.2727632522583008\n",
      "EPOCH: 20 step: 7675 VAL LOSS: 1.2776484489440918\n",
      "EPOCH: 20 step: 7700 VAL LOSS: 1.276069164276123\n",
      "EPOCH: 20 step: 7725 VAL LOSS: 1.2726119756698608\n",
      "EPOCH: 20 step: 7750 VAL LOSS: 1.2697768211364746\n",
      "EPOCH: 20 step: 7775 VAL LOSS: 1.2693467140197754\n",
      "EPOCH: 20 step: 7800 VAL LOSS: 1.266582727432251\n",
      "EPOCH: 20 step: 7825 VAL LOSS: 1.266910195350647\n",
      "EPOCH: 20 step: 7850 VAL LOSS: 1.2705507278442383\n",
      "EPOCH: 20 step: 7875 VAL LOSS: 1.271531343460083\n",
      "EPOCH: 20 step: 7900 VAL LOSS: 1.269932746887207\n",
      "EPOCH: 20 step: 7925 VAL LOSS: 1.2709765434265137\n",
      "EPOCH: 20 step: 7950 VAL LOSS: 1.2689411640167236\n",
      "EPOCH: 20 step: 7975 VAL LOSS: 1.2689460515975952\n",
      "EPOCH: 20 step: 8000 VAL LOSS: 1.270932912826538\n",
      "EPOCH: 21 step: 8025 VAL LOSS: 1.2735137939453125\n",
      "EPOCH: 21 step: 8050 VAL LOSS: 1.272148847579956\n",
      "EPOCH: 21 step: 8075 VAL LOSS: 1.2724263668060303\n",
      "EPOCH: 21 step: 8100 VAL LOSS: 1.2660725116729736\n",
      "EPOCH: 21 step: 8125 VAL LOSS: 1.262912392616272\n",
      "EPOCH: 21 step: 8150 VAL LOSS: 1.2672505378723145\n",
      "EPOCH: 21 step: 8175 VAL LOSS: 1.2645771503448486\n",
      "EPOCH: 21 step: 8200 VAL LOSS: 1.2667584419250488\n",
      "EPOCH: 21 step: 8225 VAL LOSS: 1.2718114852905273\n",
      "EPOCH: 21 step: 8250 VAL LOSS: 1.272476315498352\n",
      "EPOCH: 21 step: 8275 VAL LOSS: 1.2688007354736328\n",
      "EPOCH: 21 step: 8300 VAL LOSS: 1.2689945697784424\n",
      "EPOCH: 21 step: 8325 VAL LOSS: 1.2704315185546875\n",
      "EPOCH: 21 step: 8350 VAL LOSS: 1.2651625871658325\n"
     ]
    },
    {
     "name": "stdout",
     "output_type": "stream",
     "text": [
      "EPOCH: 21 step: 8375 VAL LOSS: 1.2730283737182617\n",
      "EPOCH: 21 step: 8400 VAL LOSS: 1.2693971395492554\n",
      "EPOCH: 22 step: 8425 VAL LOSS: 1.264123797416687\n",
      "EPOCH: 22 step: 8450 VAL LOSS: 1.2683484554290771\n",
      "EPOCH: 22 step: 8475 VAL LOSS: 1.2684556245803833\n",
      "EPOCH: 22 step: 8500 VAL LOSS: 1.2658611536026\n",
      "EPOCH: 22 step: 8525 VAL LOSS: 1.265004277229309\n",
      "EPOCH: 22 step: 8550 VAL LOSS: 1.269165277481079\n",
      "EPOCH: 22 step: 8575 VAL LOSS: 1.2656322717666626\n",
      "EPOCH: 22 step: 8600 VAL LOSS: 1.2681983709335327\n",
      "EPOCH: 22 step: 8625 VAL LOSS: 1.2678799629211426\n",
      "EPOCH: 22 step: 8650 VAL LOSS: 1.2704354524612427\n",
      "EPOCH: 22 step: 8675 VAL LOSS: 1.272230863571167\n",
      "EPOCH: 22 step: 8700 VAL LOSS: 1.2699016332626343\n",
      "EPOCH: 22 step: 8725 VAL LOSS: 1.2670989036560059\n",
      "EPOCH: 22 step: 8750 VAL LOSS: 1.2690883874893188\n",
      "EPOCH: 22 step: 8775 VAL LOSS: 1.2643638849258423\n",
      "EPOCH: 23 step: 8800 VAL LOSS: 1.2673999071121216\n",
      "EPOCH: 23 step: 8825 VAL LOSS: 1.2664779424667358\n",
      "EPOCH: 23 step: 8850 VAL LOSS: 1.2656456232070923\n",
      "EPOCH: 23 step: 8875 VAL LOSS: 1.2655144929885864\n",
      "EPOCH: 23 step: 8900 VAL LOSS: 1.2670798301696777\n",
      "EPOCH: 23 step: 8925 VAL LOSS: 1.264439344406128\n",
      "EPOCH: 23 step: 8950 VAL LOSS: 1.2651927471160889\n",
      "EPOCH: 23 step: 8975 VAL LOSS: 1.262100338935852\n",
      "EPOCH: 23 step: 9000 VAL LOSS: 1.2636539936065674\n",
      "EPOCH: 23 step: 9025 VAL LOSS: 1.2686439752578735\n",
      "EPOCH: 23 step: 9050 VAL LOSS: 1.2652877569198608\n",
      "EPOCH: 23 step: 9075 VAL LOSS: 1.2663905620574951\n",
      "EPOCH: 23 step: 9100 VAL LOSS: 1.260697603225708\n",
      "EPOCH: 23 step: 9125 VAL LOSS: 1.263232946395874\n",
      "EPOCH: 23 step: 9150 VAL LOSS: 1.2721420526504517\n",
      "EPOCH: 24 step: 9175 VAL LOSS: 1.2661672830581665\n",
      "EPOCH: 24 step: 9200 VAL LOSS: 1.2671558856964111\n",
      "EPOCH: 24 step: 9225 VAL LOSS: 1.2720741033554077\n",
      "EPOCH: 24 step: 9250 VAL LOSS: 1.2661142349243164\n",
      "EPOCH: 24 step: 9275 VAL LOSS: 1.2641444206237793\n",
      "EPOCH: 24 step: 9300 VAL LOSS: 1.2666139602661133\n",
      "EPOCH: 24 step: 9325 VAL LOSS: 1.2664638757705688\n",
      "EPOCH: 24 step: 9350 VAL LOSS: 1.2620673179626465\n",
      "EPOCH: 24 step: 9375 VAL LOSS: 1.2689757347106934\n",
      "EPOCH: 24 step: 9400 VAL LOSS: 1.2683029174804688\n",
      "EPOCH: 24 step: 9425 VAL LOSS: 1.2703814506530762\n",
      "EPOCH: 24 step: 9450 VAL LOSS: 1.2667627334594727\n",
      "EPOCH: 24 step: 9475 VAL LOSS: 1.267358660697937\n",
      "EPOCH: 24 step: 9500 VAL LOSS: 1.2612346410751343\n",
      "EPOCH: 24 step: 9525 VAL LOSS: 1.2658493518829346\n",
      "EPOCH: 24 step: 9550 VAL LOSS: 1.2661194801330566\n",
      "\n",
      "Duration: 4583 seconds\n"
     ]
    }
   ],
   "source": [
    "import time\n",
    "start_time = time.time()\n",
    "\n",
    "model.train()\n",
    "\n",
    "if model.use_gpu:\n",
    "    model.cuda()\n",
    "    \n",
    "for i in range(epochs):\n",
    "    \n",
    "    hidden = model.hidden_state(batch_size)\n",
    "    \n",
    "    for x,y in generate_batches(train_data, batch_size, seq_len):\n",
    "    \n",
    "        tracker += 1\n",
    "        \n",
    "        x = one_hot_encoder(x, num_char)\n",
    "        \n",
    "        inputs = torch.from_numpy(x)\n",
    "        targets = torch.from_numpy(y)\n",
    "        \n",
    "        if model.use_gpu:\n",
    "            inputs = inputs.cuda()\n",
    "            targets = targets.cuda()\n",
    "        \n",
    "        hidden = tuple([state.data for state in hidden])\n",
    "        \n",
    "        model.zero_grad()\n",
    "            \n",
    "        lstm_output, hidden = model.forward(inputs, hidden)\n",
    "        loss = criterion(lstm_output, targets.view(batch_size*seq_len).long())\n",
    "        loss.backward()\n",
    "        \n",
    "        nn.utils.clip_grad_norm_(model.parameters(), max_norm=5)\n",
    "        \n",
    "        optimizer.step()\n",
    "        \n",
    "        if tracker % 25 == 0:\n",
    "            \n",
    "            val_hidden = model.hidden_state(batch_size)\n",
    "            val_losses = []\n",
    "            model.eval()\n",
    "            \n",
    "            for x,y in generate_batches(val_data, batch_size, seq_len):\n",
    "                \n",
    "                x = one_hot_encoder(x, num_char)\n",
    "        \n",
    "                inputs = torch.from_numpy(x)\n",
    "                targets = torch.from_numpy(y)\n",
    "\n",
    "                if model.use_gpu:\n",
    "                    inputs = inputs.cuda()\n",
    "                    targets = targets.cuda()\n",
    "                \n",
    "                val_hidden = tuple([state.data for state in val_hidden])\n",
    "                \n",
    "                lstm_output, val_hidden = model.forward(inputs, val_hidden)\n",
    "                val_loss = criterion(lstm_output, targets.view(batch_size*seq_len).long())\n",
    "                val_losses.append(val_loss.item())\n",
    "            \n",
    "            model.train()\n",
    "            \n",
    "            print(f\"EPOCH: {i} step: {tracker} VAL LOSS: {val_loss.item()}\")\n",
    "\n",
    "print(f'\\nDuration: {time.time() - start_time:.0f} seconds') # print the time elapsed\n",
    "    "
   ]
  },
  {
   "cell_type": "code",
   "execution_count": 36,
   "metadata": {},
   "outputs": [],
   "source": [
    "model_name = \"hidden512_layers3_shakes_saul_4.net\""
   ]
  },
  {
   "cell_type": "code",
   "execution_count": 37,
   "metadata": {},
   "outputs": [],
   "source": [
    "torch.save(model.state_dict(), model_name)"
   ]
  },
  {
   "cell_type": "code",
   "execution_count": null,
   "metadata": {},
   "outputs": [],
   "source": []
  },
  {
   "cell_type": "code",
   "execution_count": null,
   "metadata": {},
   "outputs": [],
   "source": []
  }
 ],
 "metadata": {
  "kernelspec": {
   "display_name": "Python 3",
   "language": "python",
   "name": "python3"
  },
  "language_info": {
   "codemirror_mode": {
    "name": "ipython",
    "version": 3
   },
   "file_extension": ".py",
   "mimetype": "text/x-python",
   "name": "python",
   "nbconvert_exporter": "python",
   "pygments_lexer": "ipython3",
   "version": "3.7.3"
  }
 },
 "nbformat": 4,
 "nbformat_minor": 4
}
