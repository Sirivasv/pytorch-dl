{
 "cells": [
  {
   "cell_type": "code",
   "execution_count": 1,
   "metadata": {},
   "outputs": [],
   "source": [
    "import torch\n",
    "from torch import nn\n",
    "import torch.nn.functional as F\n",
    "\n",
    "import numpy as np\n",
    "import matplotlib.pyplot as plt\n",
    "%matplotlib inline"
   ]
  },
  {
   "cell_type": "code",
   "execution_count": 4,
   "metadata": {},
   "outputs": [],
   "source": [
    "with open('../Data/shakespeare.txt', 'r', encoding='utf8') as f:\n",
    "    text = f.read()"
   ]
  },
  {
   "cell_type": "code",
   "execution_count": 5,
   "metadata": {},
   "outputs": [
    {
     "data": {
      "text/plain": [
       "str"
      ]
     },
     "execution_count": 5,
     "metadata": {},
     "output_type": "execute_result"
    }
   ],
   "source": [
    "type(text)"
   ]
  },
  {
   "cell_type": "code",
   "execution_count": 7,
   "metadata": {},
   "outputs": [
    {
     "name": "stdout",
     "output_type": "stream",
     "text": [
      "\n",
      "                     1\n",
      "  From fairest creatures we desire increase,\n",
      "  That thereby beauty's rose mi\n"
     ]
    }
   ],
   "source": [
    "print(text[:100])"
   ]
  },
  {
   "cell_type": "code",
   "execution_count": 8,
   "metadata": {},
   "outputs": [
    {
     "data": {
      "text/plain": [
       "5445609"
      ]
     },
     "execution_count": 8,
     "metadata": {},
     "output_type": "execute_result"
    }
   ],
   "source": [
    "len(text)"
   ]
  },
  {
   "cell_type": "code",
   "execution_count": 9,
   "metadata": {},
   "outputs": [],
   "source": [
    "all_characters = set(text)"
   ]
  },
  {
   "cell_type": "code",
   "execution_count": 10,
   "metadata": {},
   "outputs": [
    {
     "data": {
      "text/plain": [
       "{'\\n',\n",
       " ' ',\n",
       " '!',\n",
       " '\"',\n",
       " '&',\n",
       " \"'\",\n",
       " '(',\n",
       " ')',\n",
       " ',',\n",
       " '-',\n",
       " '.',\n",
       " '0',\n",
       " '1',\n",
       " '2',\n",
       " '3',\n",
       " '4',\n",
       " '5',\n",
       " '6',\n",
       " '7',\n",
       " '8',\n",
       " '9',\n",
       " ':',\n",
       " ';',\n",
       " '<',\n",
       " '>',\n",
       " '?',\n",
       " 'A',\n",
       " 'B',\n",
       " 'C',\n",
       " 'D',\n",
       " 'E',\n",
       " 'F',\n",
       " 'G',\n",
       " 'H',\n",
       " 'I',\n",
       " 'J',\n",
       " 'K',\n",
       " 'L',\n",
       " 'M',\n",
       " 'N',\n",
       " 'O',\n",
       " 'P',\n",
       " 'Q',\n",
       " 'R',\n",
       " 'S',\n",
       " 'T',\n",
       " 'U',\n",
       " 'V',\n",
       " 'W',\n",
       " 'X',\n",
       " 'Y',\n",
       " 'Z',\n",
       " '[',\n",
       " ']',\n",
       " '_',\n",
       " '`',\n",
       " 'a',\n",
       " 'b',\n",
       " 'c',\n",
       " 'd',\n",
       " 'e',\n",
       " 'f',\n",
       " 'g',\n",
       " 'h',\n",
       " 'i',\n",
       " 'j',\n",
       " 'k',\n",
       " 'l',\n",
       " 'm',\n",
       " 'n',\n",
       " 'o',\n",
       " 'p',\n",
       " 'q',\n",
       " 'r',\n",
       " 's',\n",
       " 't',\n",
       " 'u',\n",
       " 'v',\n",
       " 'w',\n",
       " 'x',\n",
       " 'y',\n",
       " 'z',\n",
       " '|',\n",
       " '}'}"
      ]
     },
     "execution_count": 10,
     "metadata": {},
     "output_type": "execute_result"
    }
   ],
   "source": [
    "all_characters"
   ]
  },
  {
   "cell_type": "code",
   "execution_count": 11,
   "metadata": {},
   "outputs": [
    {
     "data": {
      "text/plain": [
       "84"
      ]
     },
     "execution_count": 11,
     "metadata": {},
     "output_type": "execute_result"
    }
   ],
   "source": [
    "len(all_characters)"
   ]
  },
  {
   "cell_type": "code",
   "execution_count": 16,
   "metadata": {},
   "outputs": [
    {
     "data": {
      "text/plain": [
       "{0: 'f',\n",
       " 1: '(',\n",
       " 2: 'B',\n",
       " 3: 'n',\n",
       " 4: '5',\n",
       " 5: '<',\n",
       " 6: '_',\n",
       " 7: ')',\n",
       " 8: 'H',\n",
       " 9: '2',\n",
       " 10: '}',\n",
       " 11: 'v',\n",
       " 12: '8',\n",
       " 13: ']',\n",
       " 14: 'F',\n",
       " 15: 'V',\n",
       " 16: ',',\n",
       " 17: ';',\n",
       " 18: 'X',\n",
       " 19: 'T',\n",
       " 20: 'q',\n",
       " 21: '?',\n",
       " 22: 'o',\n",
       " 23: 'l',\n",
       " 24: 'b',\n",
       " 25: '|',\n",
       " 26: '6',\n",
       " 27: '[',\n",
       " 28: '\\n',\n",
       " 29: '.',\n",
       " 30: 'w',\n",
       " 31: 'P',\n",
       " 32: 'a',\n",
       " 33: \"'\",\n",
       " 34: 'S',\n",
       " 35: 'p',\n",
       " 36: 'G',\n",
       " 37: '>',\n",
       " 38: 't',\n",
       " 39: 'E',\n",
       " 40: 'k',\n",
       " 41: 'W',\n",
       " 42: '4',\n",
       " 43: 'N',\n",
       " 44: 'e',\n",
       " 45: 'z',\n",
       " 46: 'J',\n",
       " 47: '\"',\n",
       " 48: 'g',\n",
       " 49: 'i',\n",
       " 50: '3',\n",
       " 51: 'd',\n",
       " 52: 'I',\n",
       " 53: 'c',\n",
       " 54: 'Y',\n",
       " 55: 'U',\n",
       " 56: 'D',\n",
       " 57: '9',\n",
       " 58: 'R',\n",
       " 59: 'm',\n",
       " 60: '`',\n",
       " 61: 'O',\n",
       " 62: 'u',\n",
       " 63: '-',\n",
       " 64: 'M',\n",
       " 65: 'y',\n",
       " 66: '!',\n",
       " 67: 'Z',\n",
       " 68: 'K',\n",
       " 69: 'L',\n",
       " 70: 'j',\n",
       " 71: '1',\n",
       " 72: 'h',\n",
       " 73: '7',\n",
       " 74: 'x',\n",
       " 75: 's',\n",
       " 76: '0',\n",
       " 77: 'r',\n",
       " 78: 'A',\n",
       " 79: ':',\n",
       " 80: 'C',\n",
       " 81: '&',\n",
       " 82: 'Q',\n",
       " 83: ' '}"
      ]
     },
     "execution_count": 16,
     "metadata": {},
     "output_type": "execute_result"
    }
   ],
   "source": [
    "# num --> letter\n",
    "decoder = dict(enumerate(all_characters))\n",
    "decoder"
   ]
  },
  {
   "cell_type": "code",
   "execution_count": 13,
   "metadata": {},
   "outputs": [],
   "source": [
    "# letter --> num\n",
    "encoder = {char: ind for ind, char in decoder.items()}"
   ]
  },
  {
   "cell_type": "code",
   "execution_count": 15,
   "metadata": {},
   "outputs": [
    {
     "data": {
      "text/plain": [
       "{'f': 0,\n",
       " '(': 1,\n",
       " 'B': 2,\n",
       " 'n': 3,\n",
       " '5': 4,\n",
       " '<': 5,\n",
       " '_': 6,\n",
       " ')': 7,\n",
       " 'H': 8,\n",
       " '2': 9,\n",
       " '}': 10,\n",
       " 'v': 11,\n",
       " '8': 12,\n",
       " ']': 13,\n",
       " 'F': 14,\n",
       " 'V': 15,\n",
       " ',': 16,\n",
       " ';': 17,\n",
       " 'X': 18,\n",
       " 'T': 19,\n",
       " 'q': 20,\n",
       " '?': 21,\n",
       " 'o': 22,\n",
       " 'l': 23,\n",
       " 'b': 24,\n",
       " '|': 25,\n",
       " '6': 26,\n",
       " '[': 27,\n",
       " '\\n': 28,\n",
       " '.': 29,\n",
       " 'w': 30,\n",
       " 'P': 31,\n",
       " 'a': 32,\n",
       " \"'\": 33,\n",
       " 'S': 34,\n",
       " 'p': 35,\n",
       " 'G': 36,\n",
       " '>': 37,\n",
       " 't': 38,\n",
       " 'E': 39,\n",
       " 'k': 40,\n",
       " 'W': 41,\n",
       " '4': 42,\n",
       " 'N': 43,\n",
       " 'e': 44,\n",
       " 'z': 45,\n",
       " 'J': 46,\n",
       " '\"': 47,\n",
       " 'g': 48,\n",
       " 'i': 49,\n",
       " '3': 50,\n",
       " 'd': 51,\n",
       " 'I': 52,\n",
       " 'c': 53,\n",
       " 'Y': 54,\n",
       " 'U': 55,\n",
       " 'D': 56,\n",
       " '9': 57,\n",
       " 'R': 58,\n",
       " 'm': 59,\n",
       " '`': 60,\n",
       " 'O': 61,\n",
       " 'u': 62,\n",
       " '-': 63,\n",
       " 'M': 64,\n",
       " 'y': 65,\n",
       " '!': 66,\n",
       " 'Z': 67,\n",
       " 'K': 68,\n",
       " 'L': 69,\n",
       " 'j': 70,\n",
       " '1': 71,\n",
       " 'h': 72,\n",
       " '7': 73,\n",
       " 'x': 74,\n",
       " 's': 75,\n",
       " '0': 76,\n",
       " 'r': 77,\n",
       " 'A': 78,\n",
       " ':': 79,\n",
       " 'C': 80,\n",
       " '&': 81,\n",
       " 'Q': 82,\n",
       " ' ': 83}"
      ]
     },
     "execution_count": 15,
     "metadata": {},
     "output_type": "execute_result"
    }
   ],
   "source": [
    "encoder"
   ]
  },
  {
   "cell_type": "code",
   "execution_count": 17,
   "metadata": {},
   "outputs": [],
   "source": [
    "encoded_text = np.array([encoder[char] for char in text])"
   ]
  },
  {
   "cell_type": "code",
   "execution_count": 19,
   "metadata": {},
   "outputs": [
    {
     "data": {
      "text/plain": [
       "array([28, 83, 83, 83, 83, 83, 83, 83, 83, 83, 83, 83, 83, 83, 83, 83, 83,\n",
       "       83, 83, 83, 83, 83, 71, 28, 83, 83, 14, 77, 22, 59, 83,  0, 32, 49,\n",
       "       77, 44, 75, 38, 83, 53, 77, 44, 32, 38, 62, 77, 44, 75, 83, 30, 44,\n",
       "       83, 51, 44, 75, 49, 77, 44, 83, 49,  3, 53, 77, 44, 32, 75, 44, 16,\n",
       "       28, 83, 83, 19, 72, 32, 38, 83, 38, 72, 44, 77, 44, 24, 65, 83, 24,\n",
       "       44, 32, 62, 38, 65, 33, 75, 83, 77, 22, 75, 44, 83, 59, 49, 48, 72,\n",
       "       38, 83,  3, 44, 11, 44, 77, 83, 51, 49, 44, 16, 28, 83, 83,  2, 62,\n",
       "       38, 83, 32, 75, 83, 38, 72, 44, 83, 77, 49, 35, 44, 77, 83, 75, 72,\n",
       "       22, 62, 23, 51, 83, 24, 65, 83, 38, 49, 59, 44, 83, 51, 44, 53, 44,\n",
       "       32, 75, 44, 16, 28, 83, 83,  8, 49, 75, 83, 38, 44,  3, 51, 44, 77,\n",
       "       83, 72, 44, 49, 77, 83, 59, 49, 48, 72, 38, 83, 24, 44, 32, 77, 83,\n",
       "       72, 49, 75, 83, 59, 44, 59, 22, 77, 65, 79, 28, 83, 83,  2, 62, 38,\n",
       "       83, 38, 72, 22, 62, 83, 53, 22,  3, 38, 77, 32, 53, 38, 44, 51, 83,\n",
       "       38, 22, 83, 38, 72, 49,  3, 44, 83, 22, 30,  3, 83, 24, 77, 49, 48,\n",
       "       72, 38, 83, 44, 65, 44, 75, 16, 28, 83, 83, 14, 44, 44, 51, 33, 75,\n",
       "       38, 83, 38, 72, 65, 83, 23, 49, 48, 72, 38, 33, 75, 83,  0, 23, 32,\n",
       "       59, 44, 83, 30, 49, 38, 72, 83, 75, 44, 23,  0, 63, 75, 62, 24, 75,\n",
       "       38, 32,  3, 38, 49, 32, 23, 83,  0, 62, 44, 23, 16, 28, 83, 83, 64,\n",
       "       32, 40, 49,  3, 48, 83, 32, 83,  0, 32, 59, 49,  3, 44, 83, 30, 72,\n",
       "       44, 77, 44, 83, 32, 24, 62,  3, 51, 32,  3, 53, 44, 83, 23, 49, 44,\n",
       "       75, 16, 28, 83, 83, 19, 72, 65, 83, 75, 44, 23,  0, 83, 38, 72, 65,\n",
       "       83,  0, 22, 44, 16, 83, 38, 22, 83, 38, 72, 65, 83, 75, 30, 44, 44,\n",
       "       38, 83, 75, 44, 23,  0, 83, 38, 22, 22, 83, 53, 77, 62, 44, 23, 79,\n",
       "       28, 83, 83, 19, 72, 22, 62, 83, 38, 72, 32, 38, 83, 32, 77, 38, 83,\n",
       "        3, 22, 30, 83, 38, 72, 44, 83, 30, 22, 77, 23, 51, 33, 75, 83,  0,\n",
       "       77, 44, 75, 72, 83, 22, 77,  3, 32, 59, 44,  3, 38, 16, 28, 83, 83,\n",
       "       78,  3, 51, 83, 22,  3, 23, 65, 83, 72, 44, 77, 32, 23, 51, 83, 38,\n",
       "       22, 83, 38, 72, 44, 83, 48, 32, 62, 51, 65, 83, 75, 35, 77, 49,  3,\n",
       "       48, 16, 28, 83, 83, 41, 49, 38, 72, 49,  3, 83, 38, 72, 49,  3, 44,\n",
       "       83, 22, 30,  3, 83, 24, 62])"
      ]
     },
     "execution_count": 19,
     "metadata": {},
     "output_type": "execute_result"
    }
   ],
   "source": [
    "encoded_text[:500]"
   ]
  },
  {
   "cell_type": "code",
   "execution_count": 20,
   "metadata": {},
   "outputs": [
    {
     "data": {
      "text/plain": [
       "'['"
      ]
     },
     "execution_count": 20,
     "metadata": {},
     "output_type": "execute_result"
    }
   ],
   "source": [
    "decoder[27]"
   ]
  },
  {
   "cell_type": "code",
   "execution_count": 22,
   "metadata": {},
   "outputs": [],
   "source": [
    "def one_hot_encoder(encoded_text, num_uni_chars):\n",
    "    \n",
    "    # encoded_text --> batch of encoded text\n",
    "    # num_uni_chars --> len(set(text))\n",
    "    \n",
    "    one_hot = np.zeros((encoded_text.size, num_uni_chars))\n",
    "    \n",
    "    one_hot = one_hot.astype(np.float32)\n",
    "    \n",
    "    one_hot[np.arange(one_hot.shape[0]), encoded_text.flatten()]  = 1.0\n",
    "    \n",
    "    one_hot = one_hot.reshape((*encoded_text.shape, num_uni_chars))\n",
    "    \n",
    "    return one_hot"
   ]
  },
  {
   "cell_type": "code",
   "execution_count": 23,
   "metadata": {},
   "outputs": [
    {
     "data": {
      "text/plain": [
       "array([1, 2, 0])"
      ]
     },
     "execution_count": 23,
     "metadata": {},
     "output_type": "execute_result"
    }
   ],
   "source": [
    "arr = np.array([1, 2, 0])\n",
    "arr"
   ]
  },
  {
   "cell_type": "code",
   "execution_count": 25,
   "metadata": {},
   "outputs": [
    {
     "data": {
      "text/plain": [
       "array([[0., 1., 0.],\n",
       "       [0., 0., 1.],\n",
       "       [1., 0., 0.]], dtype=float32)"
      ]
     },
     "execution_count": 25,
     "metadata": {},
     "output_type": "execute_result"
    }
   ],
   "source": [
    "one_hot_encoder(arr, 3)"
   ]
  },
  {
   "cell_type": "code",
   "execution_count": null,
   "metadata": {},
   "outputs": [],
   "source": []
  }
 ],
 "metadata": {
  "kernelspec": {
   "display_name": "Python 3",
   "language": "python",
   "name": "python3"
  },
  "language_info": {
   "codemirror_mode": {
    "name": "ipython",
    "version": 3
   },
   "file_extension": ".py",
   "mimetype": "text/x-python",
   "name": "python",
   "nbconvert_exporter": "python",
   "pygments_lexer": "ipython3",
   "version": "3.7.3"
  }
 },
 "nbformat": 4,
 "nbformat_minor": 4
}
