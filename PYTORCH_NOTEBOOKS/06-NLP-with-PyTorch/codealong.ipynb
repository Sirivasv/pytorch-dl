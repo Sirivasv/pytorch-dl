{
 "cells": [
  {
   "cell_type": "code",
   "execution_count": 1,
   "metadata": {},
   "outputs": [],
   "source": [
    "import torch\n",
    "from torch import nn\n",
    "import torch.nn.functional as F\n",
    "\n",
    "import numpy as np\n",
    "import matplotlib.pyplot as plt\n",
    "%matplotlib inline"
   ]
  },
  {
   "cell_type": "code",
   "execution_count": 2,
   "metadata": {},
   "outputs": [],
   "source": [
    "with open('../Data/shakespeare.txt', 'r', encoding='utf8') as f:\n",
    "    text = f.read()"
   ]
  },
  {
   "cell_type": "code",
   "execution_count": 3,
   "metadata": {},
   "outputs": [
    {
     "data": {
      "text/plain": [
       "str"
      ]
     },
     "execution_count": 3,
     "metadata": {},
     "output_type": "execute_result"
    }
   ],
   "source": [
    "type(text)"
   ]
  },
  {
   "cell_type": "code",
   "execution_count": 4,
   "metadata": {},
   "outputs": [
    {
     "name": "stdout",
     "output_type": "stream",
     "text": [
      "\n",
      "                     1\n",
      "  From fairest creatures we desire increase,\n",
      "  That thereby beauty's rose mi\n"
     ]
    }
   ],
   "source": [
    "print(text[:100])"
   ]
  },
  {
   "cell_type": "code",
   "execution_count": 5,
   "metadata": {},
   "outputs": [
    {
     "data": {
      "text/plain": [
       "5445609"
      ]
     },
     "execution_count": 5,
     "metadata": {},
     "output_type": "execute_result"
    }
   ],
   "source": [
    "len(text)"
   ]
  },
  {
   "cell_type": "code",
   "execution_count": 6,
   "metadata": {},
   "outputs": [],
   "source": [
    "all_characters = set(text)"
   ]
  },
  {
   "cell_type": "code",
   "execution_count": 7,
   "metadata": {},
   "outputs": [
    {
     "data": {
      "text/plain": [
       "{'\\n',\n",
       " ' ',\n",
       " '!',\n",
       " '\"',\n",
       " '&',\n",
       " \"'\",\n",
       " '(',\n",
       " ')',\n",
       " ',',\n",
       " '-',\n",
       " '.',\n",
       " '0',\n",
       " '1',\n",
       " '2',\n",
       " '3',\n",
       " '4',\n",
       " '5',\n",
       " '6',\n",
       " '7',\n",
       " '8',\n",
       " '9',\n",
       " ':',\n",
       " ';',\n",
       " '<',\n",
       " '>',\n",
       " '?',\n",
       " 'A',\n",
       " 'B',\n",
       " 'C',\n",
       " 'D',\n",
       " 'E',\n",
       " 'F',\n",
       " 'G',\n",
       " 'H',\n",
       " 'I',\n",
       " 'J',\n",
       " 'K',\n",
       " 'L',\n",
       " 'M',\n",
       " 'N',\n",
       " 'O',\n",
       " 'P',\n",
       " 'Q',\n",
       " 'R',\n",
       " 'S',\n",
       " 'T',\n",
       " 'U',\n",
       " 'V',\n",
       " 'W',\n",
       " 'X',\n",
       " 'Y',\n",
       " 'Z',\n",
       " '[',\n",
       " ']',\n",
       " '_',\n",
       " '`',\n",
       " 'a',\n",
       " 'b',\n",
       " 'c',\n",
       " 'd',\n",
       " 'e',\n",
       " 'f',\n",
       " 'g',\n",
       " 'h',\n",
       " 'i',\n",
       " 'j',\n",
       " 'k',\n",
       " 'l',\n",
       " 'm',\n",
       " 'n',\n",
       " 'o',\n",
       " 'p',\n",
       " 'q',\n",
       " 'r',\n",
       " 's',\n",
       " 't',\n",
       " 'u',\n",
       " 'v',\n",
       " 'w',\n",
       " 'x',\n",
       " 'y',\n",
       " 'z',\n",
       " '|',\n",
       " '}'}"
      ]
     },
     "execution_count": 7,
     "metadata": {},
     "output_type": "execute_result"
    }
   ],
   "source": [
    "all_characters"
   ]
  },
  {
   "cell_type": "code",
   "execution_count": 8,
   "metadata": {},
   "outputs": [
    {
     "data": {
      "text/plain": [
       "84"
      ]
     },
     "execution_count": 8,
     "metadata": {},
     "output_type": "execute_result"
    }
   ],
   "source": [
    "len(all_characters)"
   ]
  },
  {
   "cell_type": "code",
   "execution_count": 9,
   "metadata": {},
   "outputs": [
    {
     "data": {
      "text/plain": [
       "{0: 'D',\n",
       " 1: 'e',\n",
       " 2: 'O',\n",
       " 3: 'f',\n",
       " 4: '\\n',\n",
       " 5: 's',\n",
       " 6: 'A',\n",
       " 7: '6',\n",
       " 8: 'u',\n",
       " 9: ',',\n",
       " 10: 'g',\n",
       " 11: '&',\n",
       " 12: ']',\n",
       " 13: 'W',\n",
       " 14: 'V',\n",
       " 15: '-',\n",
       " 16: '5',\n",
       " 17: 'I',\n",
       " 18: 'H',\n",
       " 19: 'z',\n",
       " 20: '8',\n",
       " 21: 'Q',\n",
       " 22: 'h',\n",
       " 23: '[',\n",
       " 24: 'd',\n",
       " 25: 'i',\n",
       " 26: 'b',\n",
       " 27: 'c',\n",
       " 28: 'C',\n",
       " 29: 'r',\n",
       " 30: 'l',\n",
       " 31: 'o',\n",
       " 32: '}',\n",
       " 33: 'Z',\n",
       " 34: '|',\n",
       " 35: '<',\n",
       " 36: '1',\n",
       " 37: 'm',\n",
       " 38: 'j',\n",
       " 39: 'L',\n",
       " 40: 'y',\n",
       " 41: ' ',\n",
       " 42: ')',\n",
       " 43: 'q',\n",
       " 44: 'p',\n",
       " 45: '2',\n",
       " 46: 'K',\n",
       " 47: '!',\n",
       " 48: 'U',\n",
       " 49: \"'\",\n",
       " 50: '\"',\n",
       " 51: 'B',\n",
       " 52: 'X',\n",
       " 53: '7',\n",
       " 54: 'R',\n",
       " 55: '(',\n",
       " 56: 't',\n",
       " 57: 'v',\n",
       " 58: '0',\n",
       " 59: 'a',\n",
       " 60: ':',\n",
       " 61: 'J',\n",
       " 62: 'F',\n",
       " 63: 'G',\n",
       " 64: 'N',\n",
       " 65: '>',\n",
       " 66: '.',\n",
       " 67: 'M',\n",
       " 68: '4',\n",
       " 69: 'Y',\n",
       " 70: '_',\n",
       " 71: 'w',\n",
       " 72: '3',\n",
       " 73: 'T',\n",
       " 74: '9',\n",
       " 75: 'P',\n",
       " 76: '?',\n",
       " 77: '`',\n",
       " 78: 'n',\n",
       " 79: ';',\n",
       " 80: 'E',\n",
       " 81: 'S',\n",
       " 82: 'x',\n",
       " 83: 'k'}"
      ]
     },
     "execution_count": 9,
     "metadata": {},
     "output_type": "execute_result"
    }
   ],
   "source": [
    "# num --> letter\n",
    "decoder = dict(enumerate(all_characters))\n",
    "decoder"
   ]
  },
  {
   "cell_type": "code",
   "execution_count": 10,
   "metadata": {},
   "outputs": [],
   "source": [
    "# letter --> num\n",
    "encoder = {char: ind for ind, char in decoder.items()}"
   ]
  },
  {
   "cell_type": "code",
   "execution_count": 11,
   "metadata": {},
   "outputs": [
    {
     "data": {
      "text/plain": [
       "{'D': 0,\n",
       " 'e': 1,\n",
       " 'O': 2,\n",
       " 'f': 3,\n",
       " '\\n': 4,\n",
       " 's': 5,\n",
       " 'A': 6,\n",
       " '6': 7,\n",
       " 'u': 8,\n",
       " ',': 9,\n",
       " 'g': 10,\n",
       " '&': 11,\n",
       " ']': 12,\n",
       " 'W': 13,\n",
       " 'V': 14,\n",
       " '-': 15,\n",
       " '5': 16,\n",
       " 'I': 17,\n",
       " 'H': 18,\n",
       " 'z': 19,\n",
       " '8': 20,\n",
       " 'Q': 21,\n",
       " 'h': 22,\n",
       " '[': 23,\n",
       " 'd': 24,\n",
       " 'i': 25,\n",
       " 'b': 26,\n",
       " 'c': 27,\n",
       " 'C': 28,\n",
       " 'r': 29,\n",
       " 'l': 30,\n",
       " 'o': 31,\n",
       " '}': 32,\n",
       " 'Z': 33,\n",
       " '|': 34,\n",
       " '<': 35,\n",
       " '1': 36,\n",
       " 'm': 37,\n",
       " 'j': 38,\n",
       " 'L': 39,\n",
       " 'y': 40,\n",
       " ' ': 41,\n",
       " ')': 42,\n",
       " 'q': 43,\n",
       " 'p': 44,\n",
       " '2': 45,\n",
       " 'K': 46,\n",
       " '!': 47,\n",
       " 'U': 48,\n",
       " \"'\": 49,\n",
       " '\"': 50,\n",
       " 'B': 51,\n",
       " 'X': 52,\n",
       " '7': 53,\n",
       " 'R': 54,\n",
       " '(': 55,\n",
       " 't': 56,\n",
       " 'v': 57,\n",
       " '0': 58,\n",
       " 'a': 59,\n",
       " ':': 60,\n",
       " 'J': 61,\n",
       " 'F': 62,\n",
       " 'G': 63,\n",
       " 'N': 64,\n",
       " '>': 65,\n",
       " '.': 66,\n",
       " 'M': 67,\n",
       " '4': 68,\n",
       " 'Y': 69,\n",
       " '_': 70,\n",
       " 'w': 71,\n",
       " '3': 72,\n",
       " 'T': 73,\n",
       " '9': 74,\n",
       " 'P': 75,\n",
       " '?': 76,\n",
       " '`': 77,\n",
       " 'n': 78,\n",
       " ';': 79,\n",
       " 'E': 80,\n",
       " 'S': 81,\n",
       " 'x': 82,\n",
       " 'k': 83}"
      ]
     },
     "execution_count": 11,
     "metadata": {},
     "output_type": "execute_result"
    }
   ],
   "source": [
    "encoder"
   ]
  },
  {
   "cell_type": "code",
   "execution_count": 12,
   "metadata": {},
   "outputs": [],
   "source": [
    "encoded_text = np.array([encoder[char] for char in text])"
   ]
  },
  {
   "cell_type": "code",
   "execution_count": 13,
   "metadata": {},
   "outputs": [
    {
     "data": {
      "text/plain": [
       "array([ 4, 41, 41, 41, 41, 41, 41, 41, 41, 41, 41, 41, 41, 41, 41, 41, 41,\n",
       "       41, 41, 41, 41, 41, 36,  4, 41, 41, 62, 29, 31, 37, 41,  3, 59, 25,\n",
       "       29,  1,  5, 56, 41, 27, 29,  1, 59, 56,  8, 29,  1,  5, 41, 71,  1,\n",
       "       41, 24,  1,  5, 25, 29,  1, 41, 25, 78, 27, 29,  1, 59,  5,  1,  9,\n",
       "        4, 41, 41, 73, 22, 59, 56, 41, 56, 22,  1, 29,  1, 26, 40, 41, 26,\n",
       "        1, 59,  8, 56, 40, 49,  5, 41, 29, 31,  5,  1, 41, 37, 25, 10, 22,\n",
       "       56, 41, 78,  1, 57,  1, 29, 41, 24, 25,  1,  9,  4, 41, 41, 51,  8,\n",
       "       56, 41, 59,  5, 41, 56, 22,  1, 41, 29, 25, 44,  1, 29, 41,  5, 22,\n",
       "       31,  8, 30, 24, 41, 26, 40, 41, 56, 25, 37,  1, 41, 24,  1, 27,  1,\n",
       "       59,  5,  1,  9,  4, 41, 41, 18, 25,  5, 41, 56,  1, 78, 24,  1, 29,\n",
       "       41, 22,  1, 25, 29, 41, 37, 25, 10, 22, 56, 41, 26,  1, 59, 29, 41,\n",
       "       22, 25,  5, 41, 37,  1, 37, 31, 29, 40, 60,  4, 41, 41, 51,  8, 56,\n",
       "       41, 56, 22, 31,  8, 41, 27, 31, 78, 56, 29, 59, 27, 56,  1, 24, 41,\n",
       "       56, 31, 41, 56, 22, 25, 78,  1, 41, 31, 71, 78, 41, 26, 29, 25, 10,\n",
       "       22, 56, 41,  1, 40,  1,  5,  9,  4, 41, 41, 62,  1,  1, 24, 49,  5,\n",
       "       56, 41, 56, 22, 40, 41, 30, 25, 10, 22, 56, 49,  5, 41,  3, 30, 59,\n",
       "       37,  1, 41, 71, 25, 56, 22, 41,  5,  1, 30,  3, 15,  5,  8, 26,  5,\n",
       "       56, 59, 78, 56, 25, 59, 30, 41,  3,  8,  1, 30,  9,  4, 41, 41, 67,\n",
       "       59, 83, 25, 78, 10, 41, 59, 41,  3, 59, 37, 25, 78,  1, 41, 71, 22,\n",
       "        1, 29,  1, 41, 59, 26,  8, 78, 24, 59, 78, 27,  1, 41, 30, 25,  1,\n",
       "        5,  9,  4, 41, 41, 73, 22, 40, 41,  5,  1, 30,  3, 41, 56, 22, 40,\n",
       "       41,  3, 31,  1,  9, 41, 56, 31, 41, 56, 22, 40, 41,  5, 71,  1,  1,\n",
       "       56, 41,  5,  1, 30,  3, 41, 56, 31, 31, 41, 27, 29,  8,  1, 30, 60,\n",
       "        4, 41, 41, 73, 22, 31,  8, 41, 56, 22, 59, 56, 41, 59, 29, 56, 41,\n",
       "       78, 31, 71, 41, 56, 22,  1, 41, 71, 31, 29, 30, 24, 49,  5, 41,  3,\n",
       "       29,  1,  5, 22, 41, 31, 29, 78, 59, 37,  1, 78, 56,  9,  4, 41, 41,\n",
       "        6, 78, 24, 41, 31, 78, 30, 40, 41, 22,  1, 29, 59, 30, 24, 41, 56,\n",
       "       31, 41, 56, 22,  1, 41, 10, 59,  8, 24, 40, 41,  5, 44, 29, 25, 78,\n",
       "       10,  9,  4, 41, 41, 13, 25, 56, 22, 25, 78, 41, 56, 22, 25, 78,  1,\n",
       "       41, 31, 71, 78, 41, 26,  8])"
      ]
     },
     "execution_count": 13,
     "metadata": {},
     "output_type": "execute_result"
    }
   ],
   "source": [
    "encoded_text[:500]"
   ]
  },
  {
   "cell_type": "code",
   "execution_count": 14,
   "metadata": {},
   "outputs": [
    {
     "data": {
      "text/plain": [
       "'c'"
      ]
     },
     "execution_count": 14,
     "metadata": {},
     "output_type": "execute_result"
    }
   ],
   "source": [
    "decoder[27]"
   ]
  },
  {
   "cell_type": "code",
   "execution_count": 15,
   "metadata": {},
   "outputs": [],
   "source": [
    "def one_hot_encoder(encoded_text, num_uni_chars):\n",
    "    \n",
    "    # encoded_text --> batch of encoded text\n",
    "    # num_uni_chars --> len(set(text))\n",
    "    \n",
    "    one_hot = np.zeros((encoded_text.size, num_uni_chars))\n",
    "    \n",
    "    one_hot = one_hot.astype(np.float32)\n",
    "    \n",
    "    one_hot[np.arange(one_hot.shape[0]), encoded_text.flatten()]  = 1.0\n",
    "    \n",
    "    one_hot = one_hot.reshape((*encoded_text.shape, num_uni_chars))\n",
    "    \n",
    "    return one_hot"
   ]
  },
  {
   "cell_type": "code",
   "execution_count": 16,
   "metadata": {},
   "outputs": [
    {
     "data": {
      "text/plain": [
       "array([1, 2, 0])"
      ]
     },
     "execution_count": 16,
     "metadata": {},
     "output_type": "execute_result"
    }
   ],
   "source": [
    "arr = np.array([1, 2, 0])\n",
    "arr"
   ]
  },
  {
   "cell_type": "code",
   "execution_count": 17,
   "metadata": {},
   "outputs": [
    {
     "data": {
      "text/plain": [
       "array([[0., 1., 0.],\n",
       "       [0., 0., 1.],\n",
       "       [1., 0., 0.]], dtype=float32)"
      ]
     },
     "execution_count": 17,
     "metadata": {},
     "output_type": "execute_result"
    }
   ],
   "source": [
    "one_hot_encoder(arr, 3)"
   ]
  },
  {
   "cell_type": "code",
   "execution_count": null,
   "metadata": {},
   "outputs": [],
   "source": []
  },
  {
   "cell_type": "code",
   "execution_count": 18,
   "metadata": {},
   "outputs": [],
   "source": [
    "example_text = np.arange(10)"
   ]
  },
  {
   "cell_type": "code",
   "execution_count": 19,
   "metadata": {},
   "outputs": [
    {
     "data": {
      "text/plain": [
       "array([0, 1, 2, 3, 4, 5, 6, 7, 8, 9])"
      ]
     },
     "execution_count": 19,
     "metadata": {},
     "output_type": "execute_result"
    }
   ],
   "source": [
    "example_text"
   ]
  },
  {
   "cell_type": "code",
   "execution_count": 20,
   "metadata": {},
   "outputs": [
    {
     "data": {
      "text/plain": [
       "array([[0, 1],\n",
       "       [2, 3],\n",
       "       [4, 5],\n",
       "       [6, 7],\n",
       "       [8, 9]])"
      ]
     },
     "execution_count": 20,
     "metadata": {},
     "output_type": "execute_result"
    }
   ],
   "source": [
    "example_text.reshape((5,-1))"
   ]
  },
  {
   "cell_type": "code",
   "execution_count": 21,
   "metadata": {},
   "outputs": [],
   "source": [
    "def generate_batches(encoded_text, samp_per_batch=10, seq_len=50):\n",
    "    \n",
    "    # X : encoded text of legth seq_len\n",
    "    # Y : encoded text shifted by one\n",
    "    \n",
    "    # how many chars per batch?\n",
    "    char_per_batch = samp_per_batch * seq_len\n",
    "    \n",
    "    # how many batches can we make, given the len of the encoded text?\n",
    "    num_batches_avail = int(len(encoded_text)/char_per_batch)\n",
    "    \n",
    "    # Cut off the end of the encoded text, that won't fit evenly into a batch\n",
    "    encoded_text = encoded_text[:num_batches_avail * char_per_batch]\n",
    "\n",
    "    encoded_text = encoded_text.reshape((samp_per_batch, -1))\n",
    "    \n",
    "    for n in range(0, encoded_text.shape[1], seq_len):\n",
    "        \n",
    "        x = encoded_text[:, n:n+seq_len]\n",
    "        \n",
    "        # zeros array to the same shape as x\n",
    "        y = np.zeros_like(x)\n",
    "        \n",
    "        try:\n",
    "            y[:, :-1] = x[:, 1:]\n",
    "            y[:, -1] = encoded_text[:, n+seq_len]\n",
    "        except:\n",
    "            y[:, :-1] = x[:, 1:]\n",
    "            y[:,-1] = encoded_text[:, 0]\n",
    "        \n",
    "        yield x,y"
   ]
  },
  {
   "cell_type": "code",
   "execution_count": 22,
   "metadata": {},
   "outputs": [
    {
     "data": {
      "text/plain": [
       "array([ 4, 41, 41, 41, 41, 41, 41, 41, 41, 41, 41, 41, 41, 41, 41, 41, 41,\n",
       "       41, 41, 41])"
      ]
     },
     "execution_count": 22,
     "metadata": {},
     "output_type": "execute_result"
    }
   ],
   "source": [
    "sample_text = encoded_text[:20]\n",
    "sample_text"
   ]
  },
  {
   "cell_type": "code",
   "execution_count": 23,
   "metadata": {},
   "outputs": [],
   "source": [
    "batch_generator = generate_batches(sample_text, samp_per_batch=2, seq_len=5)"
   ]
  },
  {
   "cell_type": "code",
   "execution_count": 24,
   "metadata": {},
   "outputs": [],
   "source": [
    "x,y = next(batch_generator)"
   ]
  },
  {
   "cell_type": "code",
   "execution_count": 25,
   "metadata": {},
   "outputs": [
    {
     "data": {
      "text/plain": [
       "array([[ 4, 41, 41, 41, 41],\n",
       "       [41, 41, 41, 41, 41]])"
      ]
     },
     "execution_count": 25,
     "metadata": {},
     "output_type": "execute_result"
    }
   ],
   "source": [
    "x"
   ]
  },
  {
   "cell_type": "code",
   "execution_count": 26,
   "metadata": {},
   "outputs": [
    {
     "data": {
      "text/plain": [
       "array([[41, 41, 41, 41, 41],\n",
       "       [41, 41, 41, 41, 41]])"
      ]
     },
     "execution_count": 26,
     "metadata": {},
     "output_type": "execute_result"
    }
   ],
   "source": [
    "y"
   ]
  },
  {
   "cell_type": "code",
   "execution_count": 27,
   "metadata": {},
   "outputs": [],
   "source": [
    "class CharModel(nn.Module):\n",
    "    \n",
    "    def __init__(self, all_chars, num_hidden=256, num_layers=4, drop_prob=0.5, use_gpu=False):\n",
    "        \n",
    "        super().__init__()\n",
    "        \n",
    "        self.drop_prob = drop_prob\n",
    "        self.num_layers = num_layers\n",
    "        self.num_hidden = num_hidden\n",
    "        self.use_gpu = use_gpu\n",
    "        \n",
    "        self.all_chars = all_chars\n",
    "        self.decoder = dict(enumerate(all_chars))\n",
    "        self.encoder = {char: ind for ind, char in decoder.items()}\n",
    "        \n",
    "        self.lstm = nn.LSTM(len(self.all_chars), num_hidden, num_layers, dropout=drop_prob, batch_first=True)\n",
    "        \n",
    "        self.dropout = nn.Dropout(drop_prob)\n",
    "        \n",
    "        self.fc_linear = nn.Linear(num_hidden, len(self.all_chars))\n",
    "    \n",
    "    def forward(self, x, hidden):\n",
    "        \n",
    "        lstm_output, hidden = self.lstm(x, hidden)\n",
    "        \n",
    "        drop_output = self.dropout(lstm_output)\n",
    "        \n",
    "        drop_output = drop_output.contiguous().view(-1, self.num_hidden)\n",
    "        \n",
    "        final_out = self.fc_linear(drop_output)\n",
    "        \n",
    "        return final_out, hidden\n",
    "    \n",
    "    def hidden_state(self, batch_size):\n",
    "        \n",
    "        if self.use_gpu:\n",
    "            \n",
    "            hidden = (torch.zeros(self.num_layers, batch_size, self.num_hidden).cuda(), torch.zeros(self.num_layers, batch_size, self.num_hidden).cuda())\n",
    "        else:\n",
    "            hidden = (torch.zeros(self.num_layers, batch_size, self.num_hidden), torch.zeros(self.num_layers, batch_size, self.num_hidden))\n",
    "        \n",
    "        return hidden\n",
    "    "
   ]
  },
  {
   "cell_type": "code",
   "execution_count": 28,
   "metadata": {},
   "outputs": [],
   "source": [
    "model = CharModel(all_chars=all_characters,\n",
    "                  num_hidden=512,\n",
    "                  num_layers=3,\n",
    "                  drop_prob=0.5,\n",
    "                  use_gpu=True)"
   ]
  },
  {
   "cell_type": "code",
   "execution_count": 29,
   "metadata": {},
   "outputs": [
    {
     "data": {
      "text/plain": [
       "5470292"
      ]
     },
     "execution_count": 29,
     "metadata": {},
     "output_type": "execute_result"
    }
   ],
   "source": [
    "total_param = []\n",
    "\n",
    "for p in model.parameters():\n",
    "    total_param.append(int(p.numel()))\n",
    "\n",
    "sum(total_param)"
   ]
  },
  {
   "cell_type": "code",
   "execution_count": 30,
   "metadata": {},
   "outputs": [],
   "source": [
    "optimizer = torch.optim.Adam(model.parameters(), lr=0.001)\n",
    "criterion = nn.CrossEntropyLoss()"
   ]
  },
  {
   "cell_type": "code",
   "execution_count": 31,
   "metadata": {},
   "outputs": [
    {
     "data": {
      "text/plain": [
       "(4901048, 544561)"
      ]
     },
     "execution_count": 31,
     "metadata": {},
     "output_type": "execute_result"
    }
   ],
   "source": [
    "train_percent = 0.9\n",
    "train_ind = int(len(encoded_text)*train_percent)\n",
    "\n",
    "train_data = encoded_text[:train_ind]\n",
    "val_data = encoded_text[train_ind:]\n",
    "\n",
    "len(train_data), len(val_data)"
   ]
  },
  {
   "cell_type": "code",
   "execution_count": 34,
   "metadata": {},
   "outputs": [],
   "source": [
    "# VARIABLES\n",
    "\n",
    "epochs = 2\n",
    "batch_size = 100\n",
    "\n",
    "seq_len = 100\n",
    "\n",
    "tracker = 0\n",
    "num_char = max(encoded_text) + 1\n"
   ]
  },
  {
   "cell_type": "code",
   "execution_count": 36,
   "metadata": {},
   "outputs": [
    {
     "name": "stdout",
     "output_type": "stream",
     "text": [
      "EPOCH: 0 step: 225 VAL LOSS: 1.6385951042175293\n",
      "EPOCH: 0 step: 250 VAL LOSS: 1.6289540529251099\n",
      "EPOCH: 0 step: 275 VAL LOSS: 1.6253702640533447\n",
      "EPOCH: 0 step: 300 VAL LOSS: 1.6129294633865356\n",
      "EPOCH: 0 step: 325 VAL LOSS: 1.6040384769439697\n",
      "EPOCH: 0 step: 350 VAL LOSS: 1.6027451753616333\n",
      "EPOCH: 0 step: 375 VAL LOSS: 1.5917539596557617\n",
      "EPOCH: 0 step: 400 VAL LOSS: 1.581817626953125\n",
      "EPOCH: 0 step: 425 VAL LOSS: 1.5739343166351318\n",
      "EPOCH: 0 step: 450 VAL LOSS: 1.5720685720443726\n",
      "EPOCH: 0 step: 475 VAL LOSS: 1.5666931867599487\n",
      "EPOCH: 0 step: 500 VAL LOSS: 1.5568277835845947\n",
      "EPOCH: 0 step: 525 VAL LOSS: 1.5578359365463257\n",
      "EPOCH: 0 step: 550 VAL LOSS: 1.547835111618042\n",
      "EPOCH: 0 step: 575 VAL LOSS: 1.540914535522461\n",
      "EPOCH: 0 step: 600 VAL LOSS: 1.5369573831558228\n",
      "EPOCH: 0 step: 625 VAL LOSS: 1.5342597961425781\n",
      "EPOCH: 0 step: 650 VAL LOSS: 1.5311095714569092\n",
      "EPOCH: 0 step: 675 VAL LOSS: 1.5279278755187988\n",
      "EPOCH: 1 step: 700 VAL LOSS: 1.527523159980774\n",
      "EPOCH: 1 step: 725 VAL LOSS: 1.5133775472640991\n",
      "EPOCH: 1 step: 750 VAL LOSS: 1.506274938583374\n",
      "EPOCH: 1 step: 775 VAL LOSS: 1.5054829120635986\n",
      "EPOCH: 1 step: 800 VAL LOSS: 1.5027101039886475\n",
      "EPOCH: 1 step: 825 VAL LOSS: 1.4964698553085327\n",
      "EPOCH: 1 step: 850 VAL LOSS: 1.4947847127914429\n",
      "EPOCH: 1 step: 875 VAL LOSS: 1.4875353574752808\n",
      "EPOCH: 1 step: 900 VAL LOSS: 1.4814716577529907\n",
      "EPOCH: 1 step: 925 VAL LOSS: 1.4781768321990967\n",
      "EPOCH: 1 step: 950 VAL LOSS: 1.4735441207885742\n",
      "EPOCH: 1 step: 975 VAL LOSS: 1.47385835647583\n",
      "EPOCH: 1 step: 1000 VAL LOSS: 1.4735395908355713\n",
      "EPOCH: 1 step: 1025 VAL LOSS: 1.465183138847351\n",
      "EPOCH: 1 step: 1050 VAL LOSS: 1.4646919965744019\n",
      "EPOCH: 1 step: 1075 VAL LOSS: 1.4625258445739746\n",
      "EPOCH: 1 step: 1100 VAL LOSS: 1.4551723003387451\n",
      "EPOCH: 1 step: 1125 VAL LOSS: 1.4551702737808228\n",
      "EPOCH: 1 step: 1150 VAL LOSS: 1.4601691961288452\n",
      "EPOCH: 1 step: 1175 VAL LOSS: 1.4469351768493652\n"
     ]
    }
   ],
   "source": [
    "model.train()\n",
    "\n",
    "if model.use_gpu:\n",
    "    model.cuda()\n",
    "    \n",
    "for i in range(epochs):\n",
    "    \n",
    "    hidden = model.hidden_state(batch_size)\n",
    "    \n",
    "    for x,y in generate_batches(train_data, batch_size, seq_len):\n",
    "    \n",
    "        tracker += 1\n",
    "        \n",
    "        x = one_hot_encoder(x, num_char)\n",
    "        \n",
    "        inputs = torch.from_numpy(x)\n",
    "        targets = torch.from_numpy(y)\n",
    "        \n",
    "        if model.use_gpu:\n",
    "            inputs = inputs.cuda()\n",
    "            targets = targets.cuda()\n",
    "        \n",
    "        hidden = tuple([state.data for state in hidden])\n",
    "        \n",
    "        model.zero_grad()\n",
    "            \n",
    "        lstm_output, hidden = model.forward(inputs, hidden)\n",
    "        loss = criterion(lstm_output, targets.view(batch_size*seq_len).long())\n",
    "        loss.backward()\n",
    "        \n",
    "        nn.utils.clip_grad_norm_(model.parameters(), max_norm=5)\n",
    "        \n",
    "        optimizer.step()\n",
    "        \n",
    "        if tracker % 25 == 0:\n",
    "            \n",
    "            val_hidden = model.hidden_state(batch_size)\n",
    "            val_losses = []\n",
    "            model.eval()\n",
    "            \n",
    "            for x,y in generate_batches(val_data, batch_size, seq_len):\n",
    "                \n",
    "                x = one_hot_encoder(x, num_char)\n",
    "        \n",
    "                inputs = torch.from_numpy(x)\n",
    "                targets = torch.from_numpy(y)\n",
    "\n",
    "                if model.use_gpu:\n",
    "                    inputs = inputs.cuda()\n",
    "                    targets = targets.cuda()\n",
    "                \n",
    "                val_hidden = tuple([state.data for state in val_hidden])\n",
    "                \n",
    "                lstm_output, val_hidden = model.forward(inputs, val_hidden)\n",
    "                val_loss = criterion(lstm_output, targets.view(batch_size*seq_len).long())\n",
    "                val_losses.append(val_loss.item())\n",
    "            \n",
    "            model.train()\n",
    "            \n",
    "            print(f\"EPOCH: {i} step: {tracker} VAL LOSS: {val_loss.item()}\")\n",
    "    "
   ]
  },
  {
   "cell_type": "code",
   "execution_count": 37,
   "metadata": {},
   "outputs": [],
   "source": [
    "model_name = \"hidden512_layers3_shakes_saul.net\""
   ]
  },
  {
   "cell_type": "code",
   "execution_count": 39,
   "metadata": {},
   "outputs": [],
   "source": [
    "torch.save(model.state_dict(), model_name)"
   ]
  },
  {
   "cell_type": "code",
   "execution_count": null,
   "metadata": {},
   "outputs": [],
   "source": []
  }
 ],
 "metadata": {
  "kernelspec": {
   "display_name": "Python 3",
   "language": "python",
   "name": "python3"
  },
  "language_info": {
   "codemirror_mode": {
    "name": "ipython",
    "version": 3
   },
   "file_extension": ".py",
   "mimetype": "text/x-python",
   "name": "python",
   "nbconvert_exporter": "python",
   "pygments_lexer": "ipython3",
   "version": "3.7.3"
  }
 },
 "nbformat": 4,
 "nbformat_minor": 4
}
